{
 "cells": [
  {
   "cell_type": "code",
   "execution_count": 1,
   "metadata": {},
   "outputs": [],
   "source": [
    "import openpyxl\n",
    "from openpyxl import load_workbook\n",
    "import pandas as pd\n",
    "import numpy as np\n",
    "import matplotlib.pyplot as plt\n",
    "from mpl_toolkits.mplot3d import Axes3D\n",
    "%matplotlib notebook\n",
    "np.set_printoptions(suppress=True)"
   ]
  },
  {
   "cell_type": "code",
   "execution_count": 2,
   "metadata": {},
   "outputs": [],
   "source": [
    "df = pd.read_excel(\"dataset.xlsx\", sheet_name=None, header=0)"
   ]
  },
  {
   "cell_type": "markdown",
   "metadata": {},
   "source": [
    "# Section 4.1-(2) Table 4.1.2, Table 4.1.3, Table 4.1.4"
   ]
  },
  {
   "cell_type": "code",
   "execution_count": 3,
   "metadata": {},
   "outputs": [],
   "source": [
    "all_df = {}\n",
    "for i, d in enumerate(df.items()):\n",
    "    name, data = d\n",
    "    all_df[name] = data"
   ]
  },
  {
   "cell_type": "code",
   "execution_count": 4,
   "metadata": {},
   "outputs": [],
   "source": [
    "data = all_df['1K-01']\n",
    "#data_test = all_df['1X-02']"
   ]
  },
  {
   "cell_type": "code",
   "execution_count": 5,
   "metadata": {},
   "outputs": [],
   "source": [
    "data = data[data['DEPTH'] == data[\"DEPTH\"]]   # drop NaN value row\n",
    "#data_test = data_test[data_test['DEPTH'] == data_test[\"DEPTH\"]]   # drop NaN value row"
   ]
  },
  {
   "cell_type": "code",
   "execution_count": 6,
   "metadata": {},
   "outputs": [],
   "source": [
    "data = data.drop([\"Core_Facies\"], axis=1)\n",
    "#data_test = data_test.drop([\"Core_Facies\"], axis=1)"
   ]
  },
  {
   "cell_type": "code",
   "execution_count": 7,
   "metadata": {},
   "outputs": [
    {
     "data": {
      "text/plain": [
       "count     1025\n",
       "unique       3\n",
       "top        1.0\n",
       "freq       530\n",
       "Name: Log_Facies, dtype: object"
      ]
     },
     "execution_count": 7,
     "metadata": {},
     "output_type": "execute_result"
    }
   ],
   "source": [
    "data['Log_Facies'].apply(lambda x: str(x)).describe()"
   ]
  },
  {
   "cell_type": "markdown",
   "metadata": {},
   "source": [
    "## Table 4.1.2"
   ]
  },
  {
   "cell_type": "code",
   "execution_count": 8,
   "metadata": {},
   "outputs": [],
   "source": [
    "from sklearn.preprocessing import StandardScaler\n",
    "from sklearn.linear_model import LogisticRegression"
   ]
  },
  {
   "cell_type": "code",
   "execution_count": 9,
   "metadata": {},
   "outputs": [],
   "source": [
    "X = data[[\"DEPTH\", \"CALI\", \"DT\", \"GR\", \"LLD\", \"LLS\", \"MSFL\", \"NPHI\", \"RHOB\"]]\n",
    "ss = StandardScaler()\n",
    "X = ss.fit_transform(X)\n",
    "X_real = data[[\"DEPTH\", \"CALI\", \"DT\", \"GR\", \"LLD\", \"LLS\", \"MSFL\", \"NPHI\", \"RHOB\"]]"
   ]
  },
  {
   "cell_type": "code",
   "execution_count": 10,
   "metadata": {},
   "outputs": [],
   "source": [
    "Y = data['Log_Facies'].apply(lambda x: int(x)-1)\n",
    "#Y_test = data_test['Log_Facies'].apply(lambda x: int(x)-1)"
   ]
  },
  {
   "cell_type": "code",
   "execution_count": 11,
   "metadata": {},
   "outputs": [],
   "source": [
    "clf = LogisticRegression()\n",
    "clf_real = LogisticRegression()"
   ]
  },
  {
   "cell_type": "code",
   "execution_count": 12,
   "metadata": {},
   "outputs": [
    {
     "data": {
      "text/plain": [
       "LogisticRegression(C=1.0, class_weight=None, dual=False, fit_intercept=True,\n",
       "          intercept_scaling=1, max_iter=100, multi_class='ovr', n_jobs=1,\n",
       "          penalty='l2', random_state=None, solver='liblinear', tol=0.0001,\n",
       "          verbose=0, warm_start=False)"
      ]
     },
     "execution_count": 12,
     "metadata": {},
     "output_type": "execute_result"
    }
   ],
   "source": [
    "clf.fit(X, Y)\n",
    "clf_real.fit(X_real, Y)"
   ]
  },
  {
   "cell_type": "code",
   "execution_count": 13,
   "metadata": {},
   "outputs": [],
   "source": [
    "#Y_pred = clf.predict(X)\n",
    "#Y_real_pred = clf.predict(X_real)"
   ]
  },
  {
   "cell_type": "code",
   "execution_count": 14,
   "metadata": {},
   "outputs": [
    {
     "name": "stdout",
     "output_type": "stream",
     "text": [
      "[-0.23088812 -0.38637902 -5.331887  ]\n",
      "[[ 0.06540731 -0.20490059 -0.99202325  0.27874922  1.01387764 -1.51442859\n",
      "   1.15717478 -1.24748841 -3.56451337]\n",
      " [ 1.13719754 -0.03029435  0.6867362   0.05459472  0.9444873  -0.12385016\n",
      "  -0.68960912  0.41124826  1.68873727]\n",
      " [-3.2547469   1.09666476  0.09938329  0.08917029 -1.33224463  0.83745061\n",
      "   0.0253272   0.24571485  1.03975919]]\n"
     ]
    }
   ],
   "source": [
    "print(clf.intercept_)\n",
    "print(clf.coef_)"
   ]
  },
  {
   "cell_type": "code",
   "execution_count": 15,
   "metadata": {},
   "outputs": [
    {
     "name": "stdout",
     "output_type": "stream",
     "text": [
      "[[ 0.0654 -0.2049 -0.992   0.2787  1.0139 -1.5144  1.1572 -1.2475 -3.5645]\n",
      " [ 1.1372 -0.0303  0.6867  0.0546  0.9445 -0.1239 -0.6896  0.4112  1.6887]\n",
      " [-3.2547  1.0967  0.0994  0.0892 -1.3322  0.8375  0.0253  0.2457  1.0398]]\n"
     ]
    },
    {
     "data": {
      "text/plain": [
       "array([4.4573, 1.3319, 1.7781, 0.4225, 3.2906, 2.4758, 1.8721, 1.9044,\n",
       "       6.293 ])"
      ]
     },
     "execution_count": 15,
     "metadata": {},
     "output_type": "execute_result"
    }
   ],
   "source": [
    "coef = np.round(clf.coef_, 4)\n",
    "print(coef)\n",
    "coef = abs(coef)\n",
    "coef = np.sum(coef, axis=0)\n",
    "coef"
   ]
  },
  {
   "cell_type": "markdown",
   "metadata": {},
   "source": [
    "\n",
    "## Table 4.1.3"
   ]
  },
  {
   "cell_type": "code",
   "execution_count": 16,
   "metadata": {},
   "outputs": [],
   "source": [
    "from sklearn.preprocessing import StandardScaler\n",
    "from sklearn.linear_model import LogisticRegression"
   ]
  },
  {
   "cell_type": "code",
   "execution_count": 17,
   "metadata": {},
   "outputs": [],
   "source": [
    "X = data[[ \"DT\", \"GR\", \"LLD\", \"MSFL\", \"NPHI\", \"RHOB\"]]\n",
    "ss = StandardScaler()\n",
    "X = ss.fit_transform(X)\n",
    "X_real = data[[\"DT\", \"GR\", \"LLD\", \"MSFL\", \"NPHI\", \"RHOB\"]]"
   ]
  },
  {
   "cell_type": "code",
   "execution_count": 18,
   "metadata": {},
   "outputs": [],
   "source": [
    "Y = data['Log_Facies'].apply(lambda x: int(x)-1)\n",
    "#Y_test = data_test['Log_Facies'].apply(lambda x: int(x)-1)"
   ]
  },
  {
   "cell_type": "code",
   "execution_count": 19,
   "metadata": {},
   "outputs": [],
   "source": [
    "clf = LogisticRegression()\n",
    "clf_real = LogisticRegression()"
   ]
  },
  {
   "cell_type": "code",
   "execution_count": 20,
   "metadata": {},
   "outputs": [
    {
     "data": {
      "text/plain": [
       "LogisticRegression(C=1.0, class_weight=None, dual=False, fit_intercept=True,\n",
       "          intercept_scaling=1, max_iter=100, multi_class='ovr', n_jobs=1,\n",
       "          penalty='l2', random_state=None, solver='liblinear', tol=0.0001,\n",
       "          verbose=0, warm_start=False)"
      ]
     },
     "execution_count": 20,
     "metadata": {},
     "output_type": "execute_result"
    }
   ],
   "source": [
    "clf.fit(X, Y)\n",
    "clf_real.fit(X_real, Y)"
   ]
  },
  {
   "cell_type": "code",
   "execution_count": 21,
   "metadata": {},
   "outputs": [
    {
     "name": "stdout",
     "output_type": "stream",
     "text": [
      "[-0.23192155 -0.41405327 -4.32295868]\n",
      "[[-1.00535655  0.27516454 -0.39440776  0.92536912 -1.27664335 -3.78283158]\n",
      " [ 0.79841699 -0.41645127  0.19185842 -0.76693398  0.1980053   1.82361806]\n",
      " [-0.42306581  1.20295886  0.57055786  0.00945587  0.4360202   1.17678156]]\n"
     ]
    }
   ],
   "source": [
    "print(clf.intercept_)\n",
    "print(clf.coef_)"
   ]
  },
  {
   "cell_type": "code",
   "execution_count": 22,
   "metadata": {},
   "outputs": [
    {
     "name": "stdout",
     "output_type": "stream",
     "text": [
      "[[-1.0054  0.2752 -0.3944  0.9254 -1.2766 -3.7828]\n",
      " [ 0.7984 -0.4165  0.1919 -0.7669  0.198   1.8236]\n",
      " [-0.4231  1.203   0.5706  0.0095  0.436   1.1768]]\n"
     ]
    },
    {
     "data": {
      "text/plain": [
       "array([2.2269, 1.8947, 1.1569, 1.7018, 1.9106, 6.7832])"
      ]
     },
     "execution_count": 22,
     "metadata": {},
     "output_type": "execute_result"
    }
   ],
   "source": [
    "coef = np.round(clf.coef_, 4)\n",
    "print(coef)\n",
    "coef = abs(coef)\n",
    "coef = np.sum(coef, axis=0)\n",
    "coef"
   ]
  },
  {
   "cell_type": "markdown",
   "metadata": {},
   "source": [
    "## Table 4.1.4"
   ]
  },
  {
   "cell_type": "code",
   "execution_count": 23,
   "metadata": {},
   "outputs": [],
   "source": [
    "all_df = {}\n",
    "for i, d in enumerate(df.items()):\n",
    "    name, data = d\n",
    "    all_df[name] = data\n",
    "all_data = pd.concat(df.values())"
   ]
  },
  {
   "cell_type": "code",
   "execution_count": 24,
   "metadata": {},
   "outputs": [],
   "source": [
    "all_data = all_data[[ \"DEPTH\", \"DT\", \"GR\", \"LLD\", \"NPHI\", \"RHOB\", \"Log_Facies\"]]\n",
    "all_data = all_data.dropna(axis=0, how='any')\n",
    "data = all_data"
   ]
  },
  {
   "cell_type": "code",
   "execution_count": 25,
   "metadata": {},
   "outputs": [],
   "source": [
    "from sklearn.preprocessing import StandardScaler\n",
    "from sklearn.linear_model import LogisticRegression"
   ]
  },
  {
   "cell_type": "code",
   "execution_count": 26,
   "metadata": {},
   "outputs": [],
   "source": [
    "X = data[[\"DEPTH\", \"DT\", \"GR\", \"LLD\", \"NPHI\", \"RHOB\",]]\n",
    "ss = StandardScaler()\n",
    "X = ss.fit_transform(X)\n",
    "Y = data['Log_Facies'].apply(lambda x: int(x)-1)"
   ]
  },
  {
   "cell_type": "code",
   "execution_count": 27,
   "metadata": {},
   "outputs": [],
   "source": [
    "clf = LogisticRegression()"
   ]
  },
  {
   "cell_type": "code",
   "execution_count": 28,
   "metadata": {},
   "outputs": [
    {
     "data": {
      "text/plain": [
       "LogisticRegression(C=1.0, class_weight=None, dual=False, fit_intercept=True,\n",
       "          intercept_scaling=1, max_iter=100, multi_class='ovr', n_jobs=1,\n",
       "          penalty='l2', random_state=None, solver='liblinear', tol=0.0001,\n",
       "          verbose=0, warm_start=False)"
      ]
     },
     "execution_count": 28,
     "metadata": {},
     "output_type": "execute_result"
    }
   ],
   "source": [
    "clf.fit(X, Y)"
   ]
  },
  {
   "cell_type": "code",
   "execution_count": 29,
   "metadata": {},
   "outputs": [],
   "source": [
    "Y_pred = clf.predict(X)"
   ]
  },
  {
   "cell_type": "code",
   "execution_count": 30,
   "metadata": {},
   "outputs": [],
   "source": [
    "from sklearn.metrics import confusion_matrix "
   ]
  },
  {
   "cell_type": "code",
   "execution_count": 31,
   "metadata": {},
   "outputs": [],
   "source": [
    "#results = confusion_matrix(Y, Y_pred)\n",
    "#results\n",
    "#from sklearn.metrics import classification_report\n",
    "#report = classification_report(Y, Y_pred)\n",
    "#print(report)"
   ]
  },
  {
   "cell_type": "code",
   "execution_count": 32,
   "metadata": {},
   "outputs": [
    {
     "name": "stdout",
     "output_type": "stream",
     "text": [
      "[ 0.78055015 -1.04563358 -4.77313397]\n",
      "[[ 0.36258517 -0.11776839 -0.0184775  -0.19050506 -2.63032929 -4.02616705]\n",
      " [-0.09633896 -0.08903942 -0.23619461 -0.06511261  1.26371285  1.94912398]\n",
      " [-0.95162169  0.12162854  1.19518554  0.61236001  0.48844301  1.46698523]]\n"
     ]
    }
   ],
   "source": [
    "print(clf.intercept_)\n",
    "print(clf.coef_)"
   ]
  },
  {
   "cell_type": "code",
   "execution_count": 33,
   "metadata": {},
   "outputs": [],
   "source": [
    "#Y_binary = data['Log_Facies'].apply(lambda x: 1 if int(x)==1 else 0)\n",
    "#clf_binary = LogisticRegression()\n",
    "#clf_binary.fit(X, Y_binary)\n",
    "#print(clf_binary.intercept_)\n",
    "#print(clf_binary.coef_)"
   ]
  },
  {
   "cell_type": "code",
   "execution_count": 34,
   "metadata": {},
   "outputs": [
    {
     "name": "stdout",
     "output_type": "stream",
     "text": [
      "[[ 0.3626 -0.1178 -0.0185 -0.1905 -2.6303 -4.0262]\n",
      " [-0.0963 -0.089  -0.2362 -0.0651  1.2637  1.9491]\n",
      " [-0.9516  0.1216  1.1952  0.6124  0.4884  1.467 ]]\n"
     ]
    },
    {
     "data": {
      "text/plain": [
       "array([1.4105, 0.3284, 1.4499, 0.868 , 4.3824, 7.4423])"
      ]
     },
     "execution_count": 34,
     "metadata": {},
     "output_type": "execute_result"
    }
   ],
   "source": [
    "coef = np.round(clf.coef_, 4)\n",
    "print(coef)\n",
    "coef = abs(coef)\n",
    "coef = np.sum(coef, axis=0)\n",
    "coef"
   ]
  },
  {
   "cell_type": "code",
   "execution_count": null,
   "metadata": {},
   "outputs": [],
   "source": []
  }
 ],
 "metadata": {
  "kernelspec": {
   "display_name": "Python 3",
   "language": "python",
   "name": "python3"
  },
  "language_info": {
   "codemirror_mode": {
    "name": "ipython",
    "version": 3
   },
   "file_extension": ".py",
   "mimetype": "text/x-python",
   "name": "python",
   "nbconvert_exporter": "python",
   "pygments_lexer": "ipython3",
   "version": "3.7.0"
  }
 },
 "nbformat": 4,
 "nbformat_minor": 2
}
