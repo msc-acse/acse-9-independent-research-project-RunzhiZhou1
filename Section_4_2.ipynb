{
 "cells": [
  {
   "cell_type": "code",
   "execution_count": 1,
   "metadata": {},
   "outputs": [],
   "source": [
    "import openpyxl\n",
    "from openpyxl import load_workbook\n",
    "import pandas as pd\n",
    "import numpy as np\n",
    "import matplotlib.pyplot as plt\n",
    "from mpl_toolkits.mplot3d import Axes3D\n",
    "%matplotlib notebook\n",
    "import warnings\n",
    "warnings.filterwarnings('ignore')"
   ]
  },
  {
   "cell_type": "code",
   "execution_count": 3,
   "metadata": {},
   "outputs": [],
   "source": [
    "df = pd.read_excel(\"dataset.xlsx\", sheet_name=None, header=0)"
   ]
  },
  {
   "cell_type": "code",
   "execution_count": 4,
   "metadata": {},
   "outputs": [],
   "source": [
    "all_df = {}\n",
    "for i, d in enumerate(df.items()):\n",
    "    name, data = d\n",
    "    data['wellid'] = i\n",
    "    all_df[name] = data\n",
    "    \n",
    "all_data = pd.concat(df.values())\n",
    "# all_data = all_df['1X-02']"
   ]
  },
  {
   "cell_type": "code",
   "execution_count": 5,
   "metadata": {},
   "outputs": [],
   "source": [
    "all_data = all_data[[ \"DEPTH\", \"DT\", \"GR\", \"LLD\", \"NPHI\", \"RHOB\", \"Log_Facies\", \"Fluid\", \"wellid\"]]\n",
    "all_data = all_data.dropna(axis=0, how='any')\n",
    "data = all_data"
   ]
  },
  {
   "cell_type": "code",
   "execution_count": 6,
   "metadata": {},
   "outputs": [],
   "source": [
    "data = data[data['DEPTH'] == data[\"DEPTH\"]]   # drop NaN value row"
   ]
  },
  {
   "cell_type": "code",
   "execution_count": 7,
   "metadata": {},
   "outputs": [],
   "source": [
    "data['Log_Facies'] = data['Log_Facies'].apply(lambda x: int(x))"
   ]
  },
  {
   "cell_type": "code",
   "execution_count": 8,
   "metadata": {},
   "outputs": [],
   "source": [
    "comb = [(1, 1), (1, 2), (1, 3), (2, 1), (2, 2), (2, 3)]\n",
    "def label_facies(row):\n",
    "    f = row['Fluid']\n",
    "    lf = row['Log_Facies']\n",
    "    return comb.index((f, lf))\n",
    "data['MixLabel'] = data.apply(label_facies, axis=1)"
   ]
  },
  {
   "cell_type": "code",
   "execution_count": 9,
   "metadata": {},
   "outputs": [],
   "source": [
    "from sklearn.model_selection import StratifiedShuffleSplit\n",
    "from sklearn.preprocessing import StandardScaler"
   ]
  },
  {
   "cell_type": "code",
   "execution_count": 10,
   "metadata": {},
   "outputs": [],
   "source": [
    "X = data[[\"DEPTH\", \"DT\", \"GR\", \"LLD\", \"NPHI\", \"RHOB\"]]\n",
    "ss = StandardScaler()\n",
    "X = ss.fit_transform(X)"
   ]
  },
  {
   "cell_type": "code",
   "execution_count": 11,
   "metadata": {},
   "outputs": [],
   "source": [
    "Y1 = data['Log_Facies'].values\n",
    "Y2 = data['Fluid'].values\n",
    "Y3 = data['MixLabel'].values\n",
    "Y_Label = ['Log_Facies', 'Fluid', 'MixLabel']"
   ]
  },
  {
   "cell_type": "code",
   "execution_count": 12,
   "metadata": {},
   "outputs": [],
   "source": [
    "num_of_shuffler = 10\n",
    "shuffler1 = StratifiedShuffleSplit(n_splits=num_of_shuffler, test_size=0.1).split(X, Y1)\n",
    "shuffler2 = StratifiedShuffleSplit(n_splits=num_of_shuffler, test_size=0.1).split(X, Y2)\n",
    "shuffler3 = StratifiedShuffleSplit(n_splits=num_of_shuffler, test_size=0.1).split(X, Y3)"
   ]
  },
  {
   "cell_type": "code",
   "execution_count": 13,
   "metadata": {},
   "outputs": [],
   "source": [
    "s1 = [x for x in shuffler1]\n",
    "s2 = [x for x in shuffler2]\n",
    "s3 = [x for x in shuffler3]"
   ]
  },
  {
   "cell_type": "code",
   "execution_count": 14,
   "metadata": {},
   "outputs": [],
   "source": [
    "indices1 = [(train_idx, validation_idx) for train_idx, validation_idx in s1]\n",
    "indices2 = [(train_idx, validation_idx) for train_idx, validation_idx in s2]\n",
    "indices3 = [(train_idx, validation_idx) for train_idx, validation_idx in s3]"
   ]
  },
  {
   "cell_type": "code",
   "execution_count": 15,
   "metadata": {},
   "outputs": [],
   "source": [
    "from sklearn.linear_model import LogisticRegression\n",
    "from sklearn.svm import SVC"
   ]
  },
  {
   "cell_type": "code",
   "execution_count": 16,
   "metadata": {},
   "outputs": [],
   "source": [
    "CLF = LogisticRegression\n"
   ]
  },
  {
   "cell_type": "code",
   "execution_count": 17,
   "metadata": {
    "scrolled": false
   },
   "outputs": [
    {
     "name": "stdout",
     "output_type": "stream",
     "text": [
      "label: Log_Facies total: 470.0 correct: 381.1 correct percent 0.8109\n",
      "label: Fluid total: 470.0 correct: 449.9 correct percent 0.9572\n",
      "label: MixLabel total: 470.0 correct: 371.2 correct percent 0.7898\n"
     ]
    }
   ],
   "source": [
    "count = []\n",
    "shape = 1\n",
    "ALL_Y = [Y1, Y2, Y3]\n",
    "all_indices = [indices1, indices2, indices3]\n",
    "seq = 0\n",
    "\n",
    "for (j, indices) in enumerate([indices1, indices2, indices3]):\n",
    "    all_total, all_correct = 0, 0\n",
    "    for i in range(num_of_shuffler):\n",
    "        \n",
    "        Y = ALL_Y[j]\n",
    "        X_train = X[indices[i][0]]\n",
    "        Y_train = Y[indices[i][0]]\n",
    "        \n",
    "        X_test = X[indices[i][1]]\n",
    "        Y_test = Y[indices[i][1]]\n",
    "        \n",
    "        shape = Y_test.shape[0]\n",
    "        model = CLF()\n",
    "        model.fit(X_train, Y_train)\n",
    "        pred = model.predict(X_test)\n",
    "\n",
    "        y_pred_filter = pred\n",
    "        y_test_filter = Y_test\n",
    "\n",
    "        total = pred.shape[0]\n",
    "        correct = y_pred_filter[y_pred_filter==y_test_filter].shape[0]\n",
    "        all_total += total\n",
    "        all_correct += correct\n",
    "\n",
    "    all_total /= 10\n",
    "    all_correct /= 10\n",
    "    seq += 1\n",
    "    print(\"label: {} total: {} correct: {} correct percent {:.4f}\".format(Y_Label[j], all_total, all_correct, all_correct/all_total ))"
   ]
  },
  {
   "cell_type": "code",
   "execution_count": 18,
   "metadata": {},
   "outputs": [
    {
     "name": "stdout",
     "output_type": "stream",
     "text": [
      "label: Log_Facies total: 4695 correct: 3739 correct percent 0.7964\n",
      "label: Fluid total: 4695 correct: 4161 correct percent 0.8863\n",
      "label: MixLabel total: 4695 correct: 3324 correct percent 0.7080\n"
     ]
    }
   ],
   "source": [
    "count = []\n",
    "shape = 1\n",
    "ALL_Y = [Y1, Y2, Y3]\n",
    "seq = 0\n",
    "\n",
    "\n",
    "\n",
    "    \n",
    "    \n",
    "for j in range(3):\n",
    "\n",
    "    all_total, all_correct = 0, 0\n",
    "    for i in range(len(all_df)):\n",
    "\n",
    "        well_index = i\n",
    "        tmp_data = data[data['wellid'] != well_index]\n",
    "        X = tmp_data[[\"DEPTH\", \"DT\", \"GR\", \"LLD\", \"NPHI\", \"RHOB\"]]\n",
    "        ss = StandardScaler()\n",
    "        X = ss.fit_transform(X)\n",
    "        OX = X\n",
    "\n",
    "        test_data = data[data['wellid'] == well_index]\n",
    "#             print(test_data.shape, well_index)\n",
    "        X_T =  test_data[[\"DEPTH\", \"DT\", \"GR\", \"LLD\", \"NPHI\", \"RHOB\"]]\n",
    "        XT = ss.transform(X_T)\n",
    "\n",
    "        Y1 = tmp_data['Log_Facies'].values\n",
    "        Y2 = tmp_data['Fluid'].values\n",
    "        Y3 = tmp_data['MixLabel'].values\n",
    "        Y_Label = ['Log_Facies', 'Fluid', 'MixLabel']\n",
    "        ALL_Y_TRAIN = [Y1, Y2, Y3]\n",
    "\n",
    "        Y1_test = test_data['Log_Facies'].values\n",
    "        Y2_test = test_data['Fluid'].values\n",
    "        Y3_test = test_data['MixLabel'].values\n",
    "        ALL_Y_TEST = [Y1_test, Y2_test, Y3_test]\n",
    "\n",
    "#             X = np.concatenate([OX[:, :k], OX[:,k+1:]], axis=1)\n",
    "#             X_T = np.concatenate([XT[:, :k], XT[:,k+1:]], axis=1)\n",
    "        X = OX\n",
    "        X_T = XT\n",
    "\n",
    "\n",
    "        X_train = X\n",
    "        Y_train = ALL_Y_TRAIN[j]\n",
    "        X_test = X_T\n",
    "        Y_test = ALL_Y_TEST[j]\n",
    "#         shape = Y_test.shape[0]\n",
    "        model = CLF()\n",
    "        model.fit(X_train, Y_train)\n",
    "        pred = model.predict(X_test)\n",
    "\n",
    "        y_pred_filter = pred\n",
    "        y_test_filter = Y_test\n",
    "\n",
    "        total = pred.shape[0]\n",
    "        correct = y_pred_filter[y_pred_filter==y_test_filter].shape[0]\n",
    "        all_total += total\n",
    "        all_correct += correct\n",
    "       \n",
    "        #print(\"### {}. without: {} label: {} total: {} correct: {} correct percent {:.4f}\".format(i, col, Y_Label[j], all_total, all_correct, all_correct/all_total ))\n",
    "\n",
    "#             print(model.coef_)\n",
    "#             print(model.intercept_)\n",
    "\n",
    "#         all_total /= 10\n",
    "#         all_correct /= 10\n",
    "    seq += 1\n",
    "    \n",
    "    print(\"label: {} total: {} correct: {} correct percent {:.4f}\".format( Y_Label[j], all_total, all_correct, all_correct/all_total ))"
   ]
  },
  {
   "cell_type": "code",
   "execution_count": 19,
   "metadata": {},
   "outputs": [
    {
     "name": "stdout",
     "output_type": "stream",
     "text": [
      "well: 1D-02 label: Log_Facies total: 118.0 correct: 104.1 correct percent 0.8822\n",
      "well: 1D-02 label: Fluid total: 118.0 correct: 116.9 correct percent 0.9907\n",
      "well: 1D-02 label: MixLabel total: 118.0 correct: 104.1 correct percent 0.8822\n",
      "well: 1F-11 label: Log_Facies total: 45.0 correct: 40.2 correct percent 0.8933\n",
      "well: 1F-11 label: Fluid total: 45.0 correct: 43.5 correct percent 0.9667\n",
      "well: 1F-11 label: MixLabel total: 45.0 correct: 39.7 correct percent 0.8822\n",
      "well: 1K-01 label: Log_Facies total: 103.0 correct: 79.3 correct percent 0.7699\n",
      "well: 1K-01 label: Fluid total: 103.0 correct: 101.3 correct percent 0.9835\n",
      "well: 1K-01 label: MixLabel total: 103.0 correct: 82.6 correct percent 0.8019\n",
      "well: 1X-02 label: Log_Facies total: 110.0 correct: 94.4 correct percent 0.8582\n",
      "well: 1X-02 label: Fluid total: 110.0 correct: 108.8 correct percent 0.9891\n",
      "well: 1X-02 label: MixLabel total: 110.0 correct: 91.1 correct percent 0.8282\n",
      "well: 98_6-8 label: Log_Facies total: 96.0 correct: 78.1 correct percent 0.8135\n",
      "well: 98_6-8 label: Fluid total: 96.0 correct: 95.9 correct percent 0.9990\n",
      "well: 98_6-8 label: MixLabel total: 96.0 correct: 79.4 correct percent 0.8271\n"
     ]
    }
   ],
   "source": [
    "count = []\n",
    "shape = 1\n",
    "\n",
    "seq = 0\n",
    "\n",
    "for (name, data) in all_df.items():\n",
    "    \n",
    "    all_data = data[[ \"DEPTH\", \"DT\", \"GR\", \"LLD\", \"NPHI\", \"RHOB\", \"Log_Facies\", \"Fluid\"]]\n",
    "    all_data = all_data.dropna(axis=0, how='any')\n",
    "    data = all_data\n",
    "    data = data[data['DEPTH'] == data[\"DEPTH\"]] \n",
    "    data['Log_Facies'] = data['Log_Facies'].apply(lambda x: int(x))\n",
    "    \n",
    "    comb = [(1, 1), (1, 2), (1, 3), (2, 1), (2, 2), (2, 3)]\n",
    "    def label_facies(row):\n",
    "        f = row['Fluid']\n",
    "        lf = row['Log_Facies']\n",
    "        return comb.index((f, lf))\n",
    "    data['MixLabel'] = data.apply(label_facies, axis=1)\n",
    "    \n",
    "    from sklearn.model_selection import StratifiedShuffleSplit\n",
    "    from sklearn.preprocessing import StandardScaler\n",
    "    \n",
    "    X = data[[\"DEPTH\", \"DT\", \"GR\", \"LLD\", \"NPHI\", \"RHOB\"]]\n",
    "#     ss = StandardScaler()\n",
    "#     X = ss.fit_transform(X)\n",
    "    \n",
    "    Y1 = data['Log_Facies'].values\n",
    "    Y2 = data['Fluid'].values\n",
    "    Y3 = data['MixLabel'].values\n",
    "    Y_Label = ['Log_Facies', 'Fluid', 'MixLabel']\n",
    "    \n",
    "    num_of_shuffler = 10\n",
    "    shuffler1 = StratifiedShuffleSplit(n_splits=num_of_shuffler, test_size=0.1).split(X, Y1)\n",
    "    shuffler2 = StratifiedShuffleSplit(n_splits=num_of_shuffler, test_size=0.1).split(X, Y2)\n",
    "    shuffler3 = StratifiedShuffleSplit(n_splits=num_of_shuffler, test_size=0.1).split(X, Y3)\n",
    "    \n",
    "    s1 = [x for x in shuffler1]\n",
    "    s2 = [x for x in shuffler2]\n",
    "    s3 = [x for x in shuffler3]\n",
    "    \n",
    "    indices1 = [(train_idx, validation_idx) for train_idx, validation_idx in s1]\n",
    "    indices2 = [(train_idx, validation_idx) for train_idx, validation_idx in s2]\n",
    "    indices3 = [(train_idx, validation_idx) for train_idx, validation_idx in s3]\n",
    "    \n",
    "    ALL_Y = [Y1, Y2, Y3]\n",
    "    all_indices = [indices1, indices2, indices3]\n",
    "    for (j, indices) in enumerate([indices1, indices2, indices3]):\n",
    "        all_total, all_correct = 0, 0\n",
    "        for i in range(num_of_shuffler):\n",
    "            \n",
    "            Y = ALL_Y[j]\n",
    "            X_train = X.values[indices[i][0]]\n",
    "            Y_train = Y[indices[i][0]]\n",
    "\n",
    "            X_test = X.values[indices[i][1]]\n",
    "            Y_test = Y[indices[i][1]]\n",
    "            \n",
    "            ss = StandardScaler()\n",
    "            X_train = ss.fit_transform(X_train)\n",
    "            X_test = ss.transform(X_test)\n",
    "\n",
    "            shape = Y_test.shape[0]\n",
    "            model = CLF()\n",
    "            model.fit(X_train, Y_train)\n",
    "            pred = model.predict(X_test)\n",
    "\n",
    "            y_pred_filter = pred\n",
    "            y_test_filter = Y_test\n",
    "\n",
    "            total = pred.shape[0]\n",
    "            correct = y_pred_filter[y_pred_filter==y_test_filter].shape[0]\n",
    "            all_total += total\n",
    "            all_correct += correct\n",
    "\n",
    "        all_total /= 10\n",
    "        all_correct /= 10\n",
    "        seq += 1\n",
    "        print(\"well: {} label: {} total: {} correct: {} correct percent {:.4f}\".format(name, Y_Label[j], all_total, all_correct, all_correct/all_total ))"
   ]
  },
  {
   "cell_type": "code",
   "execution_count": null,
   "metadata": {},
   "outputs": [],
   "source": []
  },
  {
   "cell_type": "code",
   "execution_count": null,
   "metadata": {},
   "outputs": [],
   "source": []
  },
  {
   "cell_type": "code",
   "execution_count": null,
   "metadata": {},
   "outputs": [],
   "source": []
  },
  {
   "cell_type": "code",
   "execution_count": null,
   "metadata": {},
   "outputs": [],
   "source": []
  },
  {
   "cell_type": "code",
   "execution_count": null,
   "metadata": {},
   "outputs": [],
   "source": []
  },
  {
   "cell_type": "code",
   "execution_count": null,
   "metadata": {},
   "outputs": [],
   "source": []
  },
  {
   "cell_type": "code",
   "execution_count": null,
   "metadata": {},
   "outputs": [],
   "source": []
  }
 ],
 "metadata": {
  "kernelspec": {
   "display_name": "Python 3",
   "language": "python",
   "name": "python3"
  },
  "language_info": {
   "codemirror_mode": {
    "name": "ipython",
    "version": 3
   },
   "file_extension": ".py",
   "mimetype": "text/x-python",
   "name": "python",
   "nbconvert_exporter": "python",
   "pygments_lexer": "ipython3",
   "version": "3.7.0"
  }
 },
 "nbformat": 4,
 "nbformat_minor": 2
}
