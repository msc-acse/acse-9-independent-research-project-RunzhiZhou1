{
 "cells": [
  {
   "cell_type": "code",
   "execution_count": 1,
   "metadata": {},
   "outputs": [],
   "source": [
    "import openpyxl\n",
    "from openpyxl import load_workbook\n",
    "import pandas as pd\n",
    "import numpy as np\n",
    "import matplotlib.pyplot as plt\n",
    "from mpl_toolkits.mplot3d import Axes3D\n",
    "%matplotlib notebook\n",
    "import warnings\n",
    "warnings.filterwarnings('ignore')"
   ]
  },
  {
   "cell_type": "markdown",
   "metadata": {},
   "source": [
    "# Code for section 4.4"
   ]
  },
  {
   "cell_type": "code",
   "execution_count": 2,
   "metadata": {},
   "outputs": [],
   "source": [
    "df = pd.read_excel(\"dataset.xlsx\", sheet_name=None, header=0)"
   ]
  },
  {
   "cell_type": "code",
   "execution_count": 3,
   "metadata": {},
   "outputs": [],
   "source": [
    "all_df = {}\n",
    "for i, d in enumerate(df.items()):\n",
    "    name, data = d\n",
    "    all_df[name] = data\n",
    "all_data = pd.concat(df.values())"
   ]
  },
  {
   "cell_type": "code",
   "execution_count": 4,
   "metadata": {},
   "outputs": [],
   "source": [
    "all_data = all_data[[ \"DEPTH\", \"DT\", \"GR\", \"LLD\", \"NPHI\", \"RHOB\", \"Log_Facies\", \"Fluid\"]]\n",
    "all_data = all_data.dropna(axis=0, how='any')\n",
    "data = all_data"
   ]
  },
  {
   "cell_type": "code",
   "execution_count": 5,
   "metadata": {},
   "outputs": [],
   "source": [
    "data = data[data['DEPTH'] == data[\"DEPTH\"]]   # drop NaN value row"
   ]
  },
  {
   "cell_type": "code",
   "execution_count": 6,
   "metadata": {},
   "outputs": [],
   "source": [
    "data['Log_Facies'] = data['Log_Facies'].apply(lambda x: int(x))"
   ]
  },
  {
   "cell_type": "code",
   "execution_count": 7,
   "metadata": {},
   "outputs": [],
   "source": [
    "comb = [(1, 1), (1, 2), (1, 3), (2, 1), (2, 2), (2, 3)]\n",
    "def label_facies(row):\n",
    "    f = row['Fluid']\n",
    "    lf = row['Log_Facies']\n",
    "    return comb.index((f, lf))\n",
    "data['MixLabel'] = data.apply(label_facies, axis=1)"
   ]
  },
  {
   "cell_type": "code",
   "execution_count": 8,
   "metadata": {},
   "outputs": [
    {
     "data": {
      "text/plain": [
       "(4695, 9)"
      ]
     },
     "execution_count": 8,
     "metadata": {},
     "output_type": "execute_result"
    }
   ],
   "source": [
    "data.shape"
   ]
  },
  {
   "cell_type": "code",
   "execution_count": 9,
   "metadata": {},
   "outputs": [],
   "source": [
    "from sklearn.model_selection import StratifiedShuffleSplit\n",
    "from sklearn.preprocessing import StandardScaler"
   ]
  },
  {
   "cell_type": "code",
   "execution_count": 10,
   "metadata": {},
   "outputs": [],
   "source": [
    "X = data[[\"DEPTH\", \"DT\", \"GR\", \"LLD\", \"NPHI\", \"RHOB\",]]\n",
    "ss = StandardScaler()\n",
    "X = ss.fit_transform(X)"
   ]
  },
  {
   "cell_type": "code",
   "execution_count": 11,
   "metadata": {},
   "outputs": [],
   "source": [
    "Y1 = data['Log_Facies'].values\n",
    "Y2 = data['Fluid'].values\n",
    "Y3 = data['MixLabel'].values\n",
    "Y_Label = ['Log_Facies', 'Fluid', 'MixLabel']"
   ]
  },
  {
   "cell_type": "code",
   "execution_count": 12,
   "metadata": {},
   "outputs": [],
   "source": [
    "num_of_shuffler = 10\n",
    "shuffler1 = StratifiedShuffleSplit(n_splits=num_of_shuffler, test_size=0.1).split(X, Y1)\n",
    "shuffler2 = StratifiedShuffleSplit(n_splits=num_of_shuffler, test_size=0.1).split(X, Y2)\n",
    "shuffler3 = StratifiedShuffleSplit(n_splits=num_of_shuffler, test_size=0.1).split(X, Y3)"
   ]
  },
  {
   "cell_type": "code",
   "execution_count": 13,
   "metadata": {},
   "outputs": [],
   "source": [
    "s1 = [x for x in shuffler1]\n",
    "s2 = [x for x in shuffler2]\n",
    "s3 = [x for x in shuffler3]"
   ]
  },
  {
   "cell_type": "code",
   "execution_count": 14,
   "metadata": {},
   "outputs": [],
   "source": [
    "indices1 = [(train_idx, validation_idx) for train_idx, validation_idx in s1]\n",
    "indices2 = [(train_idx, validation_idx) for train_idx, validation_idx in s2]\n",
    "indices3 = [(train_idx, validation_idx) for train_idx, validation_idx in s3]"
   ]
  },
  {
   "cell_type": "code",
   "execution_count": 15,
   "metadata": {},
   "outputs": [],
   "source": [
    "from sklearn.linear_model import LogisticRegression\n",
    "from sklearn.svm import SVC"
   ]
  },
  {
   "cell_type": "code",
   "execution_count": 16,
   "metadata": {},
   "outputs": [],
   "source": [
    "CLF = LogisticRegression\n"
   ]
  },
  {
   "cell_type": "code",
   "execution_count": 18,
   "metadata": {
    "scrolled": false
   },
   "outputs": [
    {
     "name": "stdout",
     "output_type": "stream",
     "text": [
      "seq: 1 label: Log_Facies prob: 0 total: 470.0 tested: 470.0 tested percent: 1.00 correct: 378.5 correct percent 0.805\n",
      "seq: 2 label: Fluid prob: 0 total: 470.0 tested: 470.0 tested percent: 1.00 correct: 445.6 correct percent 0.948\n",
      "seq: 3 label: MixLabel prob: 0 total: 470.0 tested: 470.0 tested percent: 1.00 correct: 370.9 correct percent 0.789\n",
      "seq: 4 label: Log_Facies prob: 0.5 total: 470.0 tested: 461.6 tested percent: 0.98 correct: 375.5 correct percent 0.813\n",
      "seq: 5 label: Fluid prob: 0.5 total: 470.0 tested: 470.0 tested percent: 1.00 correct: 445.6 correct percent 0.948\n",
      "seq: 6 label: MixLabel prob: 0.5 total: 470.0 tested: 407.6 tested percent: 0.87 correct: 339.6 correct percent 0.833\n",
      "seq: 7 label: Log_Facies prob: 0.6 total: 470.0 tested: 407.3 tested percent: 0.87 correct: 346.4 correct percent 0.850\n",
      "seq: 8 label: Fluid prob: 0.6 total: 470.0 tested: 455.7 tested percent: 0.97 correct: 439.7 correct percent 0.965\n",
      "seq: 9 label: MixLabel prob: 0.6 total: 470.0 tested: 327.9 tested percent: 0.70 correct: 288.2 correct percent 0.879\n",
      "seq: 10 label: Log_Facies prob: 0.7 total: 470.0 tested: 339.4 tested percent: 0.72 correct: 306.3 correct percent 0.902\n",
      "seq: 11 label: Fluid prob: 0.7 total: 470.0 tested: 443.9 tested percent: 0.94 correct: 433.2 correct percent 0.976\n",
      "seq: 12 label: MixLabel prob: 0.7 total: 470.0 tested: 251.2 tested percent: 0.53 correct: 229.1 correct percent 0.912\n",
      "seq: 13 label: Log_Facies prob: 0.8 total: 470.0 tested: 246.8 tested percent: 0.53 correct: 233.8 correct percent 0.947\n",
      "seq: 14 label: Fluid prob: 0.8 total: 470.0 tested: 431.6 tested percent: 0.92 correct: 424.8 correct percent 0.984\n",
      "seq: 15 label: MixLabel prob: 0.8 total: 470.0 tested: 151.1 tested percent: 0.32 correct: 142.4 correct percent 0.942\n",
      "seq: 16 label: Log_Facies prob: 0.9 total: 470.0 tested: 120.8 tested percent: 0.26 correct: 118.0 correct percent 0.977\n",
      "seq: 17 label: Fluid prob: 0.9 total: 470.0 tested: 409.1 tested percent: 0.87 correct: 406.1 correct percent 0.993\n",
      "seq: 18 label: MixLabel prob: 0.9 total: 470.0 tested: 28.4 tested percent: 0.06 correct: 27.1 correct percent 0.954\n",
      "seq: 19 label: Log_Facies prob: 0.95 total: 470.0 tested: 45.2 tested percent: 0.10 correct: 44.3 correct percent 0.980\n",
      "seq: 20 label: Fluid prob: 0.95 total: 470.0 tested: 376.4 tested percent: 0.80 correct: 374.3 correct percent 0.994\n",
      "seq: 21 label: MixLabel prob: 0.95 total: 470.0 tested: 5.0 tested percent: 0.01 correct: 4.9 correct percent 0.980\n"
     ]
    }
   ],
   "source": [
    "count = []\n",
    "shape = 1\n",
    "ALL_Y = [Y1, Y2, Y3]\n",
    "all_indices = [indices1, indices2, indices3]\n",
    "seq = 0\n",
    "for p in [0, 0.5, 0.6, 0.7, 0.8, 0.9, 0.95]:\n",
    "    for (j, indices) in enumerate([indices1, indices2, indices3]):\n",
    "        all_total, all_tested, all_correct = 0, 0, 0\n",
    "        for i in range(num_of_shuffler):\n",
    "            Y = ALL_Y[j]\n",
    "            X_train = X[indices[i][0]]\n",
    "            Y_train = Y[indices[i][0]]\n",
    "            X_test = X[indices[i][1]]\n",
    "            Y_test = Y[indices[i][1]]\n",
    "            shape = Y_test.shape[0]\n",
    "            model = CLF()\n",
    "            model.fit(X_train, Y_train)\n",
    "            pred = model.predict(X_test)\n",
    "            pred_p = model.predict_proba(X_test)\n",
    "\n",
    "            y_pred_filter = pred[pred_p.max(axis=1)>p]\n",
    "            y_test_filter = Y_test[pred_p.max(axis=1)>p]\n",
    "            \n",
    "            total = pred.shape[0]\n",
    "            tested = y_pred_filter.shape[0]\n",
    "            correct = y_pred_filter[y_pred_filter==y_test_filter].shape[0]\n",
    "            all_total += total\n",
    "            all_correct += correct\n",
    "            all_tested += tested\n",
    "        all_total /= 10\n",
    "        all_correct /= 10\n",
    "        all_tested /= 10\n",
    "        seq += 1\n",
    "        print(\"seq: {} label: {} prob: {} total: {} tested: {} tested percent: {:.2f} correct: {} correct percent {:.3f}\".format(seq, Y_Label[j], p, all_total, all_tested, all_tested/all_total, all_correct, all_correct/all_tested ))\n",
    "#             print(correct, tested, total, i, j, p)\n",
    "    #         print(correct, total, correct/total)\n",
    "#         ave = sum(count)/len(count)\n",
    "#         print(\"average:\", ave, ave/shape)"
   ]
  },
  {
   "cell_type": "code",
   "execution_count": null,
   "metadata": {},
   "outputs": [],
   "source": []
  }
 ],
 "metadata": {
  "kernelspec": {
   "display_name": "Python 3",
   "language": "python",
   "name": "python3"
  },
  "language_info": {
   "codemirror_mode": {
    "name": "ipython",
    "version": 3
   },
   "file_extension": ".py",
   "mimetype": "text/x-python",
   "name": "python",
   "nbconvert_exporter": "python",
   "pygments_lexer": "ipython3",
   "version": "3.7.0"
  }
 },
 "nbformat": 4,
 "nbformat_minor": 2
}
