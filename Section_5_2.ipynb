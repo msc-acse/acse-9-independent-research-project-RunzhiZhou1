{
 "cells": [
  {
   "cell_type": "code",
   "execution_count": 1,
   "metadata": {},
   "outputs": [],
   "source": [
    "import openpyxl\n",
    "from openpyxl import load_workbook\n",
    "import pandas as pd\n",
    "import numpy as np\n",
    "import matplotlib.pyplot as plt\n",
    "from mpl_toolkits.mplot3d import Axes3D\n",
    "\n",
    "%matplotlib notebook"
   ]
  },
  {
   "cell_type": "code",
   "execution_count": 2,
   "metadata": {},
   "outputs": [],
   "source": [
    "df = pd.read_excel(\"dataset.xlsx\", sheet_name=None, header=0)\n",
    "all_df = {}\n",
    "for i, d in enumerate(df.items()):\n",
    "    name, data = d\n",
    "    data['wellid'] = i\n",
    "    all_df[name] = data"
   ]
  },
  {
   "cell_type": "code",
   "execution_count": 3,
   "metadata": {},
   "outputs": [],
   "source": [
    "data = all_df['1K-01']\n",
    "data = data[data['DEPTH'] == data[\"DEPTH\"]]   # drop NaN value row\n",
    "data = data.drop([\"Core_Facies\"], axis=1)\n",
    "comb = [(1, 1), (1, 2), (1, 3), (2, 1), (2, 2), (2, 3)]\n",
    "def label_facies(row):\n",
    "    f = row['Fluid']\n",
    "    lf = row['Log_Facies']\n",
    "    return comb.index((f, lf)) + 1\n",
    "data['MixLabel'] = data.apply(label_facies, axis=1)"
   ]
  },
  {
   "cell_type": "code",
   "execution_count": null,
   "metadata": {},
   "outputs": [],
   "source": []
  },
  {
   "cell_type": "code",
   "execution_count": 4,
   "metadata": {},
   "outputs": [],
   "source": [
    "from sklearn.preprocessing import StandardScaler"
   ]
  },
  {
   "cell_type": "markdown",
   "metadata": {},
   "source": [
    "## by categories "
   ]
  },
  {
   "cell_type": "code",
   "execution_count": 5,
   "metadata": {},
   "outputs": [],
   "source": [
    "X = data[[\"DEPTH\", \"CALI\", \"DT\", \"GR\", \"LLD\", \"LLS\", \"MSFL\", \"NPHI\", \"RHOB\"]]\n",
    "ss = StandardScaler()\n",
    "X = ss.fit_transform(X)\n",
    "Y = data['MixLabel']\n",
    "\n",
    "data_test = all_df['1X-02']\n",
    "data_test = data_test[data_test['DEPTH'] == data_test[\"DEPTH\"]]  \n",
    "data_test = data_test.drop([\"Core_Facies\"], axis=1)\n",
    "\n",
    "data_test['MixLabel'] = data_test.apply(label_facies, axis=1)\n",
    "X_test = data_test[[\"DEPTH\", \"CALI\", \"DT\", \"GR\", \"LLD\", \"LLS\", \"MSFL\", \"NPHI\", \"RHOB\"]]\n",
    "X_test = ss.transform(X_test)\n",
    "Y_test = data_test['MixLabel']"
   ]
  },
  {
   "cell_type": "code",
   "execution_count": 6,
   "metadata": {},
   "outputs": [],
   "source": [
    "# 这个格子不注释 就是用cross validation , 并且取消下面cross validation的注释\n",
    "\n",
    "\n",
    "\n",
    "data = pd.concat(df.values())\n",
    "data = data[data['DEPTH'] == data[\"DEPTH\"]]   # drop NaN value row\n",
    "\n",
    "data['Log_Facies'] = data['Log_Facies'].apply(lambda x: int(x))\n",
    "comb = [(1, 1), (1, 2), (1, 3), (2, 1), (2, 2), (2, 3)]\n",
    "def label_facies(row):\n",
    "    f = row['Fluid']\n",
    "    lf = row['Log_Facies']\n",
    "    return comb.index((f, lf))\n",
    "data['MixLabel'] = data.apply(label_facies, axis=1)\n",
    "\n",
    "from sklearn.model_selection import StratifiedShuffleSplit\n",
    "\n",
    "num_of_shuffler = 1\n",
    "X = data[[\"DEPTH\", \"DT\", \"GR\", \"LLD\", \"NPHI\", \"RHOB\"]]\n",
    "OX = X\n",
    "OY = data['MixLabel']\n",
    "Y = data['MixLabel']\n",
    "\n",
    "\n",
    "shuffler1 = StratifiedShuffleSplit(n_splits=num_of_shuffler, test_size=0.1, random_state=0).split(X, Y)\n",
    "s1 = [x for x in shuffler1]\n",
    "indices1 = [(train_idx, validation_idx) for train_idx, validation_idx in s1]\n",
    "\n",
    "\n",
    "\n",
    "X_train = OX.values[indices1[0][0]]\n",
    "ss = StandardScaler()\n",
    "X = ss.fit_transform(X_train)\n",
    "X_test = OX.values[indices1[0][1]]\n",
    "X_test = ss.transform(X_test)\n",
    "Y = data['MixLabel'].values[indices1[0][0]]\n",
    "Y_test = data['MixLabel'].values[indices1[0][1]]\n"
   ]
  },
  {
   "cell_type": "code",
   "execution_count": 7,
   "metadata": {},
   "outputs": [],
   "source": [
    "# 这个格子不注释 就是用cross well , 并且取消下面cross well的注释\n",
    "\n",
    "# data = pd.concat(df.values())\n",
    "# data = data[data['DEPTH'] == data[\"DEPTH\"]]   # drop NaN value row\n",
    "\n",
    "# data['Log_Facies'] = data['Log_Facies'].apply(lambda x: int(x))\n",
    "# comb = [(1, 1), (1, 2), (1, 3), (2, 1), (2, 2), (2, 3)]\n",
    "# def label_facies(row):\n",
    "#     f = row['Fluid']\n",
    "#     lf = row['Log_Facies']\n",
    "#     return comb.index((f, lf))\n",
    "# data['MixLabel'] = data.apply(label_facies, axis=1)\n",
    "\n",
    "# from sklearn.model_selection import StratifiedShuffleSplit\n",
    "\n",
    "# num_of_shuffler = 1\n",
    "# X = data[[\"DEPTH\", \"DT\", \"GR\", \"LLD\", \"NPHI\", \"RHOB\"]]\n",
    "# OX = X\n",
    "# OY = data['MixLabel']\n",
    "# Y = data['MixLabel']\n",
    "# data = data.reset_index()\n",
    "\n",
    "# well_index = 2\n",
    "# train_index = data[data['wellid']!=well_index].index\n",
    "# test_index = data[data['wellid']==well_index].index\n",
    "# indices1 = [[train_index, test_index]]\n",
    "\n",
    "\n",
    "# X_train = OX.values[indices1[0][0]]\n",
    "# ss = StandardScaler()\n",
    "# X = ss.fit_transform(X_train)\n",
    "# X_test = OX.values[indices1[0][1]]\n",
    "# X_test = ss.transform(X_test)\n",
    "# Y = data['MixLabel'].values[indices1[0][0]]\n",
    "# Y_test = data['MixLabel'].values[indices1[0][1]]"
   ]
  },
  {
   "cell_type": "code",
   "execution_count": 8,
   "metadata": {},
   "outputs": [],
   "source": [
    "from sklearn.cluster import KMeans"
   ]
  },
  {
   "cell_type": "code",
   "execution_count": 9,
   "metadata": {},
   "outputs": [],
   "source": [
    "model = KMeans(n_clusters=5)\n",
    "Y_pred = model.fit_predict(X)"
   ]
  },
  {
   "cell_type": "code",
   "execution_count": 10,
   "metadata": {},
   "outputs": [],
   "source": [
    "from sklearn.metrics import accuracy_score"
   ]
  },
  {
   "cell_type": "code",
   "execution_count": 11,
   "metadata": {},
   "outputs": [
    {
     "name": "stdout",
     "output_type": "stream",
     "text": [
      "cluster 0\n",
      "1    363\n",
      "3    327\n",
      "4    215\n",
      "0    180\n",
      "2    168\n",
      "dtype: int64\n",
      "cluster 1\n",
      "0    50\n",
      "1    21\n",
      "2    21\n",
      "dtype: int64\n",
      "cluster 2\n",
      "3    747\n",
      "4    500\n",
      "0     28\n",
      "2      9\n",
      "1      9\n",
      "dtype: int64\n",
      "cluster 3\n",
      "3    868\n",
      "0    136\n",
      "4     98\n",
      "1     76\n",
      "2     15\n",
      "dtype: int64\n",
      "cluster 4\n",
      "0    214\n",
      "3    116\n",
      "1     33\n",
      "2     26\n",
      "4      5\n",
      "dtype: int64\n"
     ]
    },
    {
     "data": {
      "text/plain": [
       "{0: 1, 1: 0, 2: 3, 3: 3, 4: 0}"
      ]
     },
     "execution_count": 11,
     "metadata": {},
     "output_type": "execute_result"
    }
   ],
   "source": [
    "cluster_mapping = {}\n",
    "for i in set(Y):\n",
    "#     print(i, pd.Series(Y_pred[Y==i]).apply(lambda x: str(x)).describe())\n",
    "#     print(i, pd.Series(Y_pred[Y==i]).apply(lambda x: str(x)).value_counts())\n",
    "#     print(\"#######\")\n",
    "    print(\"cluster\", i)\n",
    "    print(pd.Series(Y[Y_pred==i]).apply(lambda x: str(x)).value_counts())\n",
    "    most_ = pd.Series(Y[Y_pred==i]).apply(lambda x: str(x)).value_counts().to_dict()\n",
    "    most_ = max(most_.items(), key=lambda x: x[1])[0]\n",
    "    cluster_mapping[i] = int(most_)\n",
    "cluster_mapping\n",
    "#     print(\"####################\")"
   ]
  },
  {
   "cell_type": "code",
   "execution_count": 12,
   "metadata": {},
   "outputs": [
    {
     "name": "stdout",
     "output_type": "stream",
     "text": [
      "244 470 0.5191489361702127\n",
      "cluster 0\n",
      "1    37\n",
      "3    36\n",
      "0    24\n",
      "4    19\n",
      "2    16\n",
      "dtype: int64\n",
      "total: 132, correct:37, rate:0.2803\n",
      "cluster 1\n",
      "0    4\n",
      "1    2\n",
      "2    1\n",
      "dtype: int64\n",
      "total: 7, correct:4, rate:0.5714\n",
      "cluster 2\n",
      "3    81\n",
      "4    63\n",
      "2     4\n",
      "1     1\n",
      "0     1\n",
      "dtype: int64\n",
      "total: 150, correct:81, rate:0.5400\n",
      "cluster 3\n",
      "3    102\n",
      "0     18\n",
      "1     12\n",
      "4      9\n",
      "2      3\n",
      "dtype: int64\n",
      "total: 144, correct:102, rate:0.7083\n",
      "cluster 4\n",
      "0    20\n",
      "3    10\n",
      "1     4\n",
      "2     3\n",
      "dtype: int64\n",
      "total: 37, correct:20, rate:0.5405\n",
      "mapping {0: 1, 1: 0, 2: 3, 3: 3, 4: 0}\n"
     ]
    }
   ],
   "source": [
    "Y_test_pred = model.predict(X_test)\n",
    "Y_test_pred_mapping = pd.Series(Y_test_pred).apply(lambda x: cluster_mapping[x])\n",
    "\n",
    "total = Y_test[Y_test_pred_mapping==Y_test].shape[0]\n",
    "print(total, Y_test.shape[0], total/Y_test.shape[0])\n",
    "\n",
    "for i in set(cluster_mapping.keys()):\n",
    "    \n",
    "    print(\"cluster\", i)\n",
    "    print(pd.Series(Y_test[Y_test_pred==i]).apply(lambda x: str(x)).value_counts())\n",
    "    \n",
    "    tmp = Y_test_pred_mapping[Y_test_pred==i]\n",
    "    tmp2 = Y_test[Y_test_pred==i]\n",
    "    \n",
    "    tmp1 = tmp[tmp==tmp2]\n",
    "    print(\"total: {}, correct:{}, rate:{:.4f}\".format(tmp.shape[0], tmp1.shape[0], tmp1.shape[0]/tmp.shape[0] if tmp.shape[0]!=0 else -1 ))\n",
    "    \n",
    "print(\"mapping\", cluster_mapping)"
   ]
  },
  {
   "cell_type": "markdown",
   "metadata": {},
   "source": [
    "## by categories 2"
   ]
  },
  {
   "cell_type": "code",
   "execution_count": 13,
   "metadata": {},
   "outputs": [
    {
     "name": "stdout",
     "output_type": "stream",
     "text": [
      "cluster 0\n",
      "2    1661\n",
      "1     498\n",
      "dtype: int64\n",
      "cluster 1\n",
      "2    1215\n",
      "1     851\n",
      "dtype: int64\n"
     ]
    },
    {
     "data": {
      "text/plain": [
       "{0: 2, 1: 2}"
      ]
     },
     "execution_count": 13,
     "metadata": {},
     "output_type": "execute_result"
    }
   ],
   "source": [
    "model = KMeans(n_clusters=2)\n",
    "\n",
    "\n",
    "Y = data['Fluid']\n",
    "Y_test = data_test['Fluid']\n",
    "\n",
    "\n",
    "# cross validation\n",
    "Y = data['Fluid'].values[indices1[0][0]]\n",
    "Y_test = data['Fluid'].values[indices1[0][1]]\n",
    "\n",
    "\n",
    "\n",
    "Y_pred = model.fit_predict(X)\n",
    "cluster_mapping = {}\n",
    "for i in set(Y_pred):\n",
    "    print(\"cluster\", i)\n",
    "    print(pd.Series(Y[Y_pred==i]).apply(lambda x: str(x)).value_counts())\n",
    "    most_ = pd.Series(Y[Y_pred==i]).apply(lambda x: str(x)).value_counts().to_dict()\n",
    "    most_ = max(most_.items(), key=lambda x: x[1])[0]\n",
    "    cluster_mapping[i] = int(most_)\n",
    "cluster_mapping"
   ]
  },
  {
   "cell_type": "code",
   "execution_count": 14,
   "metadata": {},
   "outputs": [
    {
     "name": "stdout",
     "output_type": "stream",
     "text": [
      "320 470 0.6808510638297872\n",
      "cluster 0\n",
      "2    181\n",
      "1     51\n",
      "dtype: int64\n",
      "total: 232, correct:181, rate:0.7802\n",
      "cluster 1\n",
      "2    139\n",
      "1     99\n",
      "dtype: int64\n",
      "total: 238, correct:139, rate:0.5840\n",
      "mapping {0: 2, 1: 2}\n"
     ]
    }
   ],
   "source": [
    "\n",
    "Y_test_pred = model.predict(X_test)\n",
    "Y_test_pred_mapping = pd.Series(Y_test_pred).apply(lambda x: cluster_mapping[x])\n",
    "\n",
    "total = Y_test[Y_test_pred_mapping==Y_test].shape[0]\n",
    "print(total, Y_test.shape[0], total/Y_test.shape[0])\n",
    "\n",
    "for i in set(cluster_mapping.keys()):\n",
    "    \n",
    "    print(\"cluster\", i)\n",
    "    print(pd.Series(Y_test[Y_test_pred==i]).apply(lambda x: str(x)).value_counts())\n",
    "    \n",
    "    tmp = Y_test_pred_mapping[Y_test_pred==i]\n",
    "    tmp2 = Y_test[Y_test_pred==i]\n",
    "    \n",
    "    tmp1 = tmp[tmp==tmp2]\n",
    "    print(\"total: {}, correct:{}, rate:{:.4f}\".format(tmp.shape[0], tmp1.shape[0], tmp1.shape[0]/tmp.shape[0]) )\n",
    "    \n",
    "print(\"mapping\", cluster_mapping)"
   ]
  },
  {
   "cell_type": "markdown",
   "metadata": {},
   "source": [
    "## by categories 3"
   ]
  },
  {
   "cell_type": "code",
   "execution_count": 15,
   "metadata": {},
   "outputs": [
    {
     "name": "stdout",
     "output_type": "stream",
     "text": [
      "cluster 0\n",
      "1    1019\n",
      "2     871\n",
      "3     107\n",
      "dtype: int64\n",
      "cluster 1\n",
      "1    1309\n",
      "2     411\n",
      "3     106\n",
      "dtype: int64\n",
      "cluster 2\n",
      "1    338\n",
      "2     38\n",
      "3     26\n",
      "dtype: int64\n"
     ]
    },
    {
     "data": {
      "text/plain": [
       "{0: 1, 1: 1, 2: 1}"
      ]
     },
     "execution_count": 15,
     "metadata": {},
     "output_type": "execute_result"
    }
   ],
   "source": [
    "model = KMeans(n_clusters=3)\n",
    "Y = data['Log_Facies'].apply(lambda x: int(x))\n",
    "Y_test = data_test['Log_Facies'].apply(lambda x: int(x))\n",
    "\n",
    "\n",
    "# cross validation\n",
    "Y = data['Log_Facies'].values[indices1[0][0]]\n",
    "Y_test = data['Log_Facies'].values[indices1[0][1]]\n",
    "\n",
    "\n",
    "Y_pred = model.fit_predict(X)\n",
    "cluster_mapping = {}\n",
    "for i in set(Y_pred):\n",
    "    print(\"cluster\", i)\n",
    "    print(pd.Series(Y[Y_pred==i]).apply(lambda x: str(x)).value_counts())\n",
    "    most_ = pd.Series(Y[Y_pred==i]).apply(lambda x: str(x)).value_counts().to_dict()\n",
    "    most_ = max(most_.items(), key=lambda x: x[1])[0]\n",
    "    cluster_mapping[i] = int(most_)\n",
    "cluster_mapping"
   ]
  },
  {
   "cell_type": "code",
   "execution_count": 16,
   "metadata": {
    "scrolled": true
   },
   "outputs": [
    {
     "name": "stdout",
     "output_type": "stream",
     "text": [
      "296 470 0.6297872340425532\n",
      "cluster 0\n",
      "1    109\n",
      "2     91\n",
      "3      8\n",
      "dtype: int64\n",
      "total: 208, correct:109, rate:0.5240\n",
      "cluster 1\n",
      "1    156\n",
      "2     52\n",
      "3     16\n",
      "dtype: int64\n",
      "total: 224, correct:156, rate:0.6964\n",
      "cluster 2\n",
      "1    31\n",
      "2     4\n",
      "3     3\n",
      "dtype: int64\n",
      "total: 38, correct:31, rate:0.8158\n",
      "mapping {0: 1, 1: 1, 2: 1}\n"
     ]
    }
   ],
   "source": [
    "\n",
    "Y_test_pred = model.predict(X_test)\n",
    "Y_test_pred_mapping = pd.Series(Y_test_pred).apply(lambda x: cluster_mapping[x])\n",
    "\n",
    "total = Y_test[Y_test_pred_mapping==Y_test].shape[0]\n",
    "print(total, Y_test.shape[0], total/Y_test.shape[0])\n",
    "\n",
    "for i in set(cluster_mapping.keys()):\n",
    "    \n",
    "    print(\"cluster\", i)\n",
    "    print(pd.Series(Y_test[Y_test_pred==i]).apply(lambda x: str(x)).value_counts())\n",
    "    \n",
    "    tmp = Y_test_pred_mapping[Y_test_pred==i]\n",
    "    tmp2 = Y_test[Y_test_pred==i]\n",
    "    \n",
    "    tmp1 = tmp[tmp==tmp2]\n",
    "    print(\"total: {}, correct:{}, rate:{:.4f}\".format(tmp.shape[0], tmp1.shape[0], tmp1.shape[0]/tmp.shape[0] if tmp.shape[0]!=0 else -1) )\n",
    "    \n",
    "print(\"mapping\", cluster_mapping)"
   ]
  },
  {
   "cell_type": "markdown",
   "metadata": {},
   "source": [
    "## Clustering number selection (by the best K number)"
   ]
  },
  {
   "cell_type": "code",
   "execution_count": 17,
   "metadata": {},
   "outputs": [],
   "source": [
    "d = []\n",
    "r = [i for i in range(2, 15)]\n",
    "for i in r:\n",
    "    model = KMeans(n_clusters=i)\n",
    "    model.fit(X)\n",
    "    d.append(model.inertia_)"
   ]
  },
  {
   "cell_type": "code",
   "execution_count": 18,
   "metadata": {},
   "outputs": [
    {
     "data": {
      "text/plain": [
       "[<matplotlib.lines.Line2D at 0x20f55b94160>]"
      ]
     },
     "execution_count": 18,
     "metadata": {},
     "output_type": "execute_result"
    },
    {
     "data": {
      "image/png": "[encoded data removed]",
      "text/plain": [
       "<Figure size 432x288 with 1 Axes>"
      ]
     },
     "metadata": {
      "needs_background": "light"
     },
     "output_type": "display_data"
    }
   ],
   "source": [
    "plt.plot(r, d)"
   ]
  },
  {
   "cell_type": "code",
   "execution_count": 19,
   "metadata": {},
   "outputs": [
    {
     "name": "stdout",
     "output_type": "stream",
     "text": [
      "2 18772.843570506204\n",
      "3 14867.14050538675\n",
      "4 12373.07555933562\n",
      "5 10749.769482913043\n",
      "6 9326.164742750178\n",
      "7 8785.174208707836\n",
      "8 8232.347579220328\n",
      "9 7768.234745428435\n",
      "10 7316.35364078796\n",
      "11 6879.527838282069\n",
      "12 6613.784196322178\n",
      "13 6415.120639326117\n",
      "14 6209.912652103114\n"
     ]
    }
   ],
   "source": [
    "from pprint import pprint\n",
    "for i, n in enumerate(r):\n",
    "    print(n, d[i])"
   ]
  },
  {
   "cell_type": "code",
   "execution_count": 20,
   "metadata": {},
   "outputs": [
    {
     "name": "stdout",
     "output_type": "stream",
     "text": [
      "313 470 0.6659574468085107\n",
      "cluster 0\n",
      "1    30\n",
      "2     4\n",
      "3     3\n",
      "dtype: int64\n",
      "total: 37, correct:30, rate:0.8108\n",
      "cluster 1\n",
      "2    46\n",
      "1    45\n",
      "3     4\n",
      "dtype: int64\n",
      "total: 95, correct:45, rate:0.4737\n",
      "cluster 2\n",
      "1    116\n",
      "2     33\n",
      "dtype: int64\n",
      "total: 149, correct:116, rate:0.7785\n",
      "cluster 3\n",
      "1    71\n",
      "2    16\n",
      "3     4\n",
      "dtype: int64\n",
      "total: 91, correct:71, rate:0.7802\n",
      "cluster 4\n",
      "2    47\n",
      "1    30\n",
      "3    15\n",
      "dtype: int64\n",
      "total: 92, correct:47, rate:0.5109\n",
      "cluster 5\n",
      "1    4\n",
      "2    1\n",
      "3    1\n",
      "dtype: int64\n",
      "total: 6, correct:4, rate:0.6667\n",
      "mapping {0: 1, 1: 1, 2: 1, 3: 1, 4: 2, 5: 1}\n"
     ]
    }
   ],
   "source": [
    "model = KMeans(n_clusters=6)\n",
    "\n",
    "# Y = data['Log_Facies'].apply(lambda x: int(x))\n",
    "# Y_test = data_test['Log_Facies'].apply(lambda x: int(x))\n",
    "\n",
    "# cross validation\n",
    "Y = data['Log_Facies'].values[indices1[0][0]]\n",
    "Y_test = data['Log_Facies'].values[indices1[0][1]]\n",
    "\n",
    "\n",
    "Y_pred = model.fit_predict(X)\n",
    "cluster_mapping = {}\n",
    "for i in set(Y_pred):\n",
    "#     print(\"cluster\", i)\n",
    "#     print(pd.Series(Y[Y_pred==i]).apply(lambda x: str(x)).value_counts())\n",
    "    most_ = pd.Series(Y[Y_pred==i]).apply(lambda x: str(x)).value_counts().to_dict()\n",
    "    most_ = max(most_.items(), key=lambda x: x[1])[0]\n",
    "    cluster_mapping[i] = int(most_)\n",
    "# cluster_mapping\n",
    "\n",
    "Y_test_pred = model.predict(X_test)\n",
    "Y_test_pred_mapping = pd.Series(Y_test_pred).apply(lambda x: cluster_mapping[x])\n",
    "\n",
    "total = Y_test[Y_test_pred_mapping==Y_test].shape[0]\n",
    "print(total, Y_test.shape[0], total/Y_test.shape[0])\n",
    "\n",
    "for i in set(cluster_mapping.keys()):\n",
    "    \n",
    "    print(\"cluster\", i)\n",
    "    print(pd.Series(Y_test[Y_test_pred==i]).apply(lambda x: str(x)).value_counts())\n",
    "    \n",
    "    tmp = Y_test_pred_mapping[Y_test_pred==i]\n",
    "    tmp2 = Y_test[Y_test_pred==i]\n",
    "    \n",
    "    tmp1 = tmp[tmp==tmp2]\n",
    "    print(\"total: {}, correct:{}, rate:{:.4f}\".format(tmp.shape[0], tmp1.shape[0], tmp1.shape[0]/tmp.shape[0] if tmp.shape[0]!=0 else -1) )\n",
    "    \n",
    "print(\"mapping\", cluster_mapping)"
   ]
  },
  {
   "cell_type": "code",
   "execution_count": 21,
   "metadata": {},
   "outputs": [
    {
     "name": "stdout",
     "output_type": "stream",
     "text": [
      "401 470 0.8531914893617021\n",
      "cluster 0\n",
      "2    88\n",
      "1     7\n",
      "dtype: int64\n",
      "total: 95, correct:88, rate:0.9263\n",
      "cluster 1\n",
      "1    75\n",
      "2    17\n",
      "dtype: int64\n",
      "total: 92, correct:75, rate:0.8152\n",
      "cluster 2\n",
      "2    57\n",
      "1    34\n",
      "dtype: int64\n",
      "total: 91, correct:57, rate:0.6264\n",
      "cluster 3\n",
      "1    27\n",
      "2    10\n",
      "dtype: int64\n",
      "total: 37, correct:27, rate:0.7297\n",
      "cluster 4\n",
      "2    148\n",
      "1      1\n",
      "dtype: int64\n",
      "total: 149, correct:148, rate:0.9933\n",
      "cluster 5\n",
      "1    6\n",
      "dtype: int64\n",
      "total: 6, correct:6, rate:1.0000\n",
      "mapping {0: 2, 1: 1, 2: 2, 3: 1, 4: 2, 5: 1}\n"
     ]
    }
   ],
   "source": [
    "model = KMeans(n_clusters=6)\n",
    "\n",
    "# Y = data['Log_Facies'].apply(lambda x: int(x))\n",
    "# Y_test = data_test['Log_Facies'].apply(lambda x: int(x))\n",
    "\n",
    "# cross validation\n",
    "Y = data['Fluid'].values[indices1[0][0]]\n",
    "Y_test = data['Fluid'].values[indices1[0][1]]\n",
    "\n",
    "\n",
    "Y_pred = model.fit_predict(X)\n",
    "cluster_mapping = {}\n",
    "for i in set(Y_pred):\n",
    "#     print(\"cluster\", i)\n",
    "#     print(pd.Series(Y[Y_pred==i]).apply(lambda x: str(x)).value_counts())\n",
    "    most_ = pd.Series(Y[Y_pred==i]).apply(lambda x: str(x)).value_counts().to_dict()\n",
    "    most_ = max(most_.items(), key=lambda x: x[1])[0]\n",
    "    cluster_mapping[i] = int(most_)\n",
    "# cluster_mapping\n",
    "\n",
    "Y_test_pred = model.predict(X_test)\n",
    "Y_test_pred_mapping = pd.Series(Y_test_pred).apply(lambda x: cluster_mapping[x])\n",
    "\n",
    "total = Y_test[Y_test_pred_mapping==Y_test].shape[0]\n",
    "print(total, Y_test.shape[0], total/Y_test.shape[0])\n",
    "\n",
    "for i in set(cluster_mapping.keys()):\n",
    "    \n",
    "    print(\"cluster\", i)\n",
    "    print(pd.Series(Y_test[Y_test_pred==i]).apply(lambda x: str(x)).value_counts())\n",
    "    \n",
    "    tmp = Y_test_pred_mapping[Y_test_pred==i]\n",
    "    tmp2 = Y_test[Y_test_pred==i]\n",
    "    \n",
    "    tmp1 = tmp[tmp==tmp2]\n",
    "    print(\"total: {}, correct:{}, rate:{:.4f}\".format(tmp.shape[0], tmp1.shape[0], tmp1.shape[0]/tmp.shape[0] if tmp.shape[0]!=0 else -1) )\n",
    "    \n",
    "print(\"mapping\", cluster_mapping)"
   ]
  },
  {
   "cell_type": "code",
   "execution_count": 22,
   "metadata": {},
   "outputs": [
    {
     "name": "stdout",
     "output_type": "stream",
     "text": [
      "273 470 0.5808510638297872\n",
      "cluster 0\n",
      "0    4\n",
      "2    1\n",
      "1    1\n",
      "dtype: int64\n",
      "total: 6, correct:4, rate:0.6667\n",
      "cluster 1\n",
      "3    115\n",
      "4     33\n",
      "0      1\n",
      "dtype: int64\n",
      "total: 149, correct:115, rate:0.7718\n",
      "cluster 2\n",
      "0    20\n",
      "3    10\n",
      "1     4\n",
      "2     3\n",
      "dtype: int64\n",
      "total: 37, correct:20, rate:0.5405\n",
      "cluster 3\n",
      "3    53\n",
      "0    18\n",
      "1    12\n",
      "4     4\n",
      "2     4\n",
      "dtype: int64\n",
      "total: 91, correct:53, rate:0.5824\n",
      "cluster 4\n",
      "3    44\n",
      "4    44\n",
      "2     4\n",
      "1     2\n",
      "0     1\n",
      "dtype: int64\n",
      "total: 95, correct:44, rate:0.4632\n",
      "cluster 5\n",
      "1    37\n",
      "0    23\n",
      "2    15\n",
      "4    10\n",
      "3     7\n",
      "dtype: int64\n",
      "total: 92, correct:37, rate:0.4022\n",
      "mapping {0: 0, 1: 3, 2: 0, 3: 3, 4: 3, 5: 1}\n"
     ]
    }
   ],
   "source": [
    "model = KMeans(n_clusters=6)\n",
    "\n",
    "# Y = data['Log_Facies'].apply(lambda x: int(x))\n",
    "# Y_test = data_test['Log_Facies'].apply(lambda x: int(x))\n",
    "\n",
    "# cross validation\n",
    "Y = data['MixLabel'].values[indices1[0][0]]\n",
    "Y_test = data['MixLabel'].values[indices1[0][1]]\n",
    "\n",
    "\n",
    "Y_pred = model.fit_predict(X)\n",
    "cluster_mapping = {}\n",
    "for i in set(Y_pred):\n",
    "#     print(\"cluster\", i)\n",
    "#     print(pd.Series(Y[Y_pred==i]).apply(lambda x: str(x)).value_counts())\n",
    "    most_ = pd.Series(Y[Y_pred==i]).apply(lambda x: str(x)).value_counts().to_dict()\n",
    "    most_ = max(most_.items(), key=lambda x: x[1])[0]\n",
    "    cluster_mapping[i] = int(most_)\n",
    "# cluster_mapping\n",
    "\n",
    "Y_test_pred = model.predict(X_test)\n",
    "Y_test_pred_mapping = pd.Series(Y_test_pred).apply(lambda x: cluster_mapping[x])\n",
    "\n",
    "total = Y_test[Y_test_pred_mapping==Y_test].shape[0]\n",
    "print(total, Y_test.shape[0], total/Y_test.shape[0])\n",
    "\n",
    "for i in set(cluster_mapping.keys()):\n",
    "    \n",
    "    print(\"cluster\", i)\n",
    "    print(pd.Series(Y_test[Y_test_pred==i]).apply(lambda x: str(x)).value_counts())\n",
    "    \n",
    "    tmp = Y_test_pred_mapping[Y_test_pred==i]\n",
    "    tmp2 = Y_test[Y_test_pred==i]\n",
    "    \n",
    "    tmp1 = tmp[tmp==tmp2]\n",
    "    print(\"total: {}, correct:{}, rate:{:.4f}\".format(tmp.shape[0], tmp1.shape[0], tmp1.shape[0]/tmp.shape[0] if tmp.shape[0]!=0 else -1) )\n",
    "print(\"mapping\", cluster_mapping)"
   ]
  },
  {
   "cell_type": "code",
   "execution_count": null,
   "metadata": {},
   "outputs": [],
   "source": []
  },
  {
   "cell_type": "code",
   "execution_count": null,
   "metadata": {},
   "outputs": [],
   "source": []
  },
  {
   "cell_type": "code",
   "execution_count": null,
   "metadata": {},
   "outputs": [],
   "source": []
  },
  {
   "cell_type": "code",
   "execution_count": null,
   "metadata": {},
   "outputs": [],
   "source": []
  },
  {
   "cell_type": "code",
   "execution_count": null,
   "metadata": {},
   "outputs": [],
   "source": []
  }
 ],
 "metadata": {
  "kernelspec": {
   "display_name": "Python 3",
   "language": "python",
   "name": "python3"
  },
  "language_info": {
   "codemirror_mode": {
    "name": "ipython",
    "version": 3
   },
   "file_extension": ".py",
   "mimetype": "text/x-python",
   "name": "python",
   "nbconvert_exporter": "python",
   "pygments_lexer": "ipython3",
   "version": "3.7.0"
  }
 },
 "nbformat": 4,
 "nbformat_minor": 2
}
