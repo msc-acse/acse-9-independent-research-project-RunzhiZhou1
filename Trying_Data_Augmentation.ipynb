{
 "cells": [
  {
   "cell_type": "code",
   "execution_count": 45,
   "metadata": {},
   "outputs": [],
   "source": [
    "import openpyxl\n",
    "from openpyxl import load_workbook\n",
    "import pandas as pd\n",
    "import numpy as np\n",
    "import matplotlib.pyplot as plt\n",
    "from mpl_toolkits.mplot3d import Axes3D\n",
    "from sklearn.preprocessing import StandardScaler\n",
    "import warnings\n",
    "warnings.filterwarnings('ignore')"
   ]
  },
  {
   "cell_type": "code",
   "execution_count": 46,
   "metadata": {},
   "outputs": [],
   "source": [
    "df = pd.read_excel(\"dataset.xlsx\", sheet_name=None, header=0)"
   ]
  },
  {
   "cell_type": "code",
   "execution_count": 47,
   "metadata": {},
   "outputs": [],
   "source": [
    "all_df = {}\n",
    "for i, d in enumerate(df.items()):\n",
    "    name, data = d\n",
    "    all_df[name] = data"
   ]
  },
  {
   "cell_type": "code",
   "execution_count": 48,
   "metadata": {},
   "outputs": [],
   "source": [
    "data = all_df['1K-01']\n",
    "data_test = all_df['1X-02']"
   ]
  },
  {
   "cell_type": "code",
   "execution_count": 49,
   "metadata": {},
   "outputs": [],
   "source": [
    "data = data[data['DEPTH'] == data[\"DEPTH\"]]   # drop NaN value row\n",
    "data_test = data_test[data_test['DEPTH'] == data_test[\"DEPTH\"]]   # drop NaN value row"
   ]
  },
  {
   "cell_type": "code",
   "execution_count": 50,
   "metadata": {},
   "outputs": [],
   "source": [
    "data = data.drop([\"Core_Facies\"], axis=1)\n",
    "data_test = data_test.drop([\"Core_Facies\"], axis=1)"
   ]
  },
  {
   "cell_type": "code",
   "execution_count": 51,
   "metadata": {},
   "outputs": [],
   "source": [
    "comb = [(1, 1), (1, 2), (1, 3), (2, 1), (2, 2), (2, 3)]\n",
    "def label_facies(row):\n",
    "    f = row['Fluid']\n",
    "    lf = row['Log_Facies']\n",
    "    return comb.index((f, lf)) + 1\n",
    "data['MixLabel'] = data.apply(label_facies, axis=1)\n",
    "data_test['MixLabel'] = data_test.apply(label_facies, axis=1)"
   ]
  },
  {
   "cell_type": "code",
   "execution_count": 52,
   "metadata": {},
   "outputs": [],
   "source": [
    "X = data[[\"DEPTH\", \"CALI\", \"DT\", \"GR\", \"LLD\", \"LLS\", \"MSFL\", \"NPHI\", \"RHOB\"]]\n",
    "ss = StandardScaler()\n",
    "X = ss.fit_transform(X)\n",
    "X_o = X\n",
    "X_test =  data_test[[\"DEPTH\", \"CALI\", \"DT\", \"GR\", \"LLD\", \"LLS\", \"MSFL\", \"NPHI\", \"RHOB\"]]\n",
    "X_test_o = ss.transform(X_test)"
   ]
  },
  {
   "cell_type": "code",
   "execution_count": 53,
   "metadata": {},
   "outputs": [],
   "source": [
    "data['Log_Facies'] = data['Log_Facies'].apply(lambda x: int(x))\n",
    "data_test['Log_Facies'] = data_test['Log_Facies'].apply(lambda x: int(x))"
   ]
  },
  {
   "cell_type": "code",
   "execution_count": 54,
   "metadata": {},
   "outputs": [
    {
     "data": {
      "text/plain": [
       "2    848\n",
       "1    246\n",
       "Name: Fluid, dtype: int64"
      ]
     },
     "execution_count": 54,
     "metadata": {},
     "output_type": "execute_result"
    }
   ],
   "source": [
    "data_test['Fluid'].value_counts()"
   ]
  },
  {
   "cell_type": "code",
   "execution_count": 55,
   "metadata": {},
   "outputs": [
    {
     "data": {
      "text/plain": [
       "2    704\n",
       "1    321\n",
       "Name: Fluid, dtype: int64"
      ]
     },
     "execution_count": 55,
     "metadata": {},
     "output_type": "execute_result"
    }
   ],
   "source": [
    "data['Fluid'].value_counts()"
   ]
  },
  {
   "cell_type": "code",
   "execution_count": 56,
   "metadata": {},
   "outputs": [],
   "source": [
    "Y1 = np.copy(data['Log_Facies'].values)\n",
    "Y2 =  np.copy( data['Fluid'].values)\n",
    "Y3 =  np.copy(data['MixLabel'].values)\n",
    "\n",
    "Y1 -= 1\n",
    "Y2 -= 1\n",
    "Y3 -= 1\n",
    "\n",
    "ALL_Y = [Y2, Y1, Y3]"
   ]
  },
  {
   "cell_type": "code",
   "execution_count": 57,
   "metadata": {},
   "outputs": [
    {
     "data": {
      "text/plain": [
       "[array([0, 0, 0, ..., 1, 1, 1]),\n",
       " array([2, 2, 2, ..., 1, 1, 1]),\n",
       " array([2, 2, 2, ..., 4, 4, 4])]"
      ]
     },
     "execution_count": 57,
     "metadata": {},
     "output_type": "execute_result"
    }
   ],
   "source": [
    "ALL_Y"
   ]
  },
  {
   "cell_type": "code",
   "execution_count": 58,
   "metadata": {},
   "outputs": [
    {
     "data": {
      "text/plain": [
       "array([1, 1, 1, ..., 2, 2, 2])"
      ]
     },
     "execution_count": 58,
     "metadata": {},
     "output_type": "execute_result"
    }
   ],
   "source": [
    "Y2_test =  np.copy(data_test['Fluid'].values)\n",
    "Y2_test"
   ]
  },
  {
   "cell_type": "code",
   "execution_count": 59,
   "metadata": {},
   "outputs": [],
   "source": [
    "Y1_test =  np.copy(data_test['Log_Facies'].values)\n",
    "Y2_test =  np.copy(data_test['Fluid'].values)\n",
    "Y3_test =  np.copy(data_test['MixLabel'].values)\n",
    "\n",
    "Y1_test -= 1\n",
    "Y2_test -= 1\n",
    "Y3_test -= 1\n",
    "\n",
    "\n",
    "ALL_Y_TEST = [Y2_test, Y1_test, Y3_test]"
   ]
  },
  {
   "cell_type": "code",
   "execution_count": 60,
   "metadata": {},
   "outputs": [
    {
     "data": {
      "text/plain": [
       "[array([0, 0, 0, ..., 1, 1, 1]),\n",
       " array([2, 2, 2, ..., 0, 0, 0]),\n",
       " array([2, 2, 2, ..., 3, 3, 3])]"
      ]
     },
     "execution_count": 60,
     "metadata": {},
     "output_type": "execute_result"
    }
   ],
   "source": [
    "ALL_Y_TEST"
   ]
  },
  {
   "cell_type": "code",
   "execution_count": 61,
   "metadata": {},
   "outputs": [],
   "source": [
    "ALL_Y_TEST = [Y2_test, Y1_test, Y3_test]"
   ]
  },
  {
   "cell_type": "markdown",
   "metadata": {},
   "source": [
    "## LogisticRegression"
   ]
  },
  {
   "cell_type": "code",
   "execution_count": 62,
   "metadata": {},
   "outputs": [],
   "source": [
    "from sklearn.linear_model import LogisticRegression"
   ]
  },
  {
   "cell_type": "code",
   "execution_count": 63,
   "metadata": {},
   "outputs": [
    {
     "name": "stdout",
     "output_type": "stream",
     "text": [
      "label: Fluid correct: 0.88 960\n",
      "label: Log_Facies correct: 0.77 838\n",
      "label: MixLabel correct: 0.75 818\n"
     ]
    }
   ],
   "source": [
    "for (seq, label) in enumerate(['Fluid', 'Log_Facies', 'MixLabel']):\n",
    "    Y = ALL_Y[seq]\n",
    "    Y_TEST = ALL_Y_TEST[seq]\n",
    "    clf = LogisticRegression()\n",
    "    clf.fit(X_o, Y)\n",
    "    pred = clf.predict(X_test_o)\n",
    "    correct = pred[pred==Y_TEST].shape[0]\n",
    "    print(\"label: {} correct: {:.2f}\".format(label, correct/pred.shape[0]), correct)"
   ]
  },
  {
   "cell_type": "markdown",
   "metadata": {},
   "source": [
    "## Improved"
   ]
  },
  {
   "cell_type": "code",
   "execution_count": 68,
   "metadata": {},
   "outputs": [],
   "source": [
    "current = -20\n",
    "r = [current]\n",
    "while current < 20:\n",
    "    current+=0.5\n",
    "    r.append(current)\n",
    "def multi_power_only_one(power, y_index=0):\n",
    "    X = data[[\"DEPTH\", \"CALI\", \"DT\", \"GR\", \"LLD\", \"LLS\", \"MSFL\", \"NPHI\", \"RHOB\"]]\n",
    "    X_np = X.values\n",
    "    a = [X_np]\n",
    "\n",
    "    X_np_square = X_np ** power\n",
    "    X_np_square = X_np_square[:,1:]\n",
    "    a.append(X_np_square)\n",
    "    X_all = np.hstack(a)\n",
    "#     print(i, X_all.shape)\n",
    "    ss = StandardScaler()\n",
    "    X = ss.fit_transform(X_all)\n",
    "    clf = LogisticRegression()\n",
    "    Y = ALL_Y[y_index]\n",
    "    clf.fit(X, Y)\n",
    "    Y_pred = clf.predict(X)\n",
    "    \n",
    "    X = data_test[[\"DEPTH\", \"CALI\", \"DT\", \"GR\", \"LLD\", \"LLS\", \"MSFL\", \"NPHI\", \"RHOB\"]]\n",
    "    X_np = X.values\n",
    "    a = [X_np]\n",
    "    \n",
    "    X_np_square = X_np ** power\n",
    "    X_np_square = X_np_square[:,1:]\n",
    "    a.append(X_np_square)\n",
    "    X_all = np.hstack(a)\n",
    "    X = ss.fit_transform(X_all)\n",
    "    Y_pred = clf.predict(X)\n",
    "    Y_test = ALL_Y_TEST[y_index]\n",
    "#     Y_pred[Y_pred==Y_test].shape[0]\n",
    "    return Y_pred[Y_pred==Y_test].shape[0], power, clf, ss"
   ]
  },
  {
   "cell_type": "code",
   "execution_count": 72,
   "metadata": {},
   "outputs": [],
   "source": [
    "result = [multi_power_only_one(i, 1) for i in r]"
   ]
  },
  {
   "cell_type": "code",
   "execution_count": 73,
   "metadata": {},
   "outputs": [
    {
     "name": "stdout",
     "output_type": "stream",
     "text": [
      "[799, 800, 802, 803, 802, 801, 801, 803, 803, 805, 805, 807, 807, 809, 810, 814, 814, 815, 817, 817, 818, 820, 820, 818, 821, 821, 820, 819, 816, 815, 816, 818, 819, 821, 824, 831, 828, 829, 831, 841, 794, 837, 788, 836, 838, 822, 818, 815, 818, 823, 816, 814, 810, 808, 807, 803, 803, 800, 799, 797, 794, 794, 792, 791, 789, 790, 789, 788, 788, 785, 781, 780, 780, 777, 774, 774, 771, 770, 769, 769, 767]\n",
      "[-20, -19.5, -19.0, -18.5, -18.0, -17.5, -17.0, -16.5, -16.0, -15.5, -15.0, -14.5, -14.0, -13.5, -13.0, -12.5, -12.0, -11.5, -11.0, -10.5, -10.0, -9.5, -9.0, -8.5, -8.0, -7.5, -7.0, -6.5, -6.0, -5.5, -5.0, -4.5, -4.0, -3.5, -3.0, -2.5, -2.0, -1.5, -1.0, -0.5, 0.0, 0.5, 1.0, 1.5, 2.0, 2.5, 3.0, 3.5, 4.0, 4.5, 5.0, 5.5, 6.0, 6.5, 7.0, 7.5, 8.0, 8.5, 9.0, 9.5, 10.0, 10.5, 11.0, 11.5, 12.0, 12.5, 13.0, 13.5, 14.0, 14.5, 15.0, 15.5, 16.0, 16.5, 17.0, 17.5, 18.0, 18.5, 19.0, 19.5, 20.0]\n"
     ]
    }
   ],
   "source": [
    "y = [i[0] for i in result]\n",
    "x = [i[1] for i in result]"
   ]
  },
  {
   "cell_type": "code",
   "execution_count": 74,
   "metadata": {},
   "outputs": [
    {
     "data": {
      "text/plain": [
       "[<matplotlib.lines.Line2D at 0x1a2d9dcb38>]"
      ]
     },
     "execution_count": 74,
     "metadata": {},
     "output_type": "execute_result"
    },
    {
     "data": {
      "image/png": "[encoded data removed]",
      "text/plain": [
       "<Figure size 432x288 with 1 Axes>"
      ]
     },
     "metadata": {
      "needs_background": "light"
     },
     "output_type": "display_data"
    }
   ],
   "source": [
    "plt.plot(x, y)"
   ]
  },
  {
   "cell_type": "code",
   "execution_count": 85,
   "metadata": {},
   "outputs": [],
   "source": [
    "current = -2.5\n",
    "r_2 = [current]\n",
    "while current < 2.5:\n",
    "    current+=0.5\n",
    "    r_2.append(current)\n",
    "r_2.remove(0)\n",
    "r_2.remove(1)\n",
    "r_2\n",
    "def multi_power_fixed(power,  y_index=0):\n",
    "    X = data[[\"DEPTH\", \"CALI\", \"DT\", \"GR\", \"LLD\", \"LLS\", \"MSFL\", \"NPHI\", \"RHOB\"]]\n",
    "    X_np = X.values\n",
    "    a = [X_np]\n",
    "    for i in r_2:\n",
    "        if i in [0, 1]:\n",
    "            continue\n",
    "        X_np_square = X_np ** i\n",
    "        X_np_square = X_np_square[:,1:]\n",
    "        a.append(X_np_square)\n",
    "    X_all = np.hstack(a)\n",
    "#     print(i, X_all.shape)\n",
    "    ss = StandardScaler()\n",
    "    X = ss.fit_transform(X_all)\n",
    "    clf = LogisticRegression()\n",
    "    Y = ALL_Y[y_index]\n",
    "    clf.fit(X, Y)\n",
    "    Y_pred = clf.predict(X)\n",
    "    \n",
    "    X = data_test[[\"DEPTH\", \"CALI\", \"DT\", \"GR\", \"LLD\", \"LLS\", \"MSFL\", \"NPHI\", \"RHOB\"]]\n",
    "    X_np = X.values\n",
    "    a = [X_np]\n",
    "    for i in r_2:\n",
    "        if i in [0, 1]:\n",
    "            continue\n",
    "        X_np_square = X_np ** i\n",
    "        X_np_square = X_np_square[:,1:]\n",
    "        a.append(X_np_square)\n",
    "    X_all = np.hstack(a)\n",
    "    X = ss.fit_transform(X_all)\n",
    "    Y_pred = clf.predict(X)\n",
    "    Y_test = ALL_Y_TEST[y_index]\n",
    "#     Y_pred[Y_pred==Y_test].shape[0]\n",
    "    return Y_pred[Y_pred==Y_test].shape[0], Y_pred.shape[0]"
   ]
  },
  {
   "cell_type": "code",
   "execution_count": 86,
   "metadata": {},
   "outputs": [
    {
     "name": "stdout",
     "output_type": "stream",
     "text": [
      "LogFacies 870 1094 0.7952468007312614\n"
     ]
    }
   ],
   "source": [
    "correct, total = multi_power_fixed(None, 1)\n",
    "print('LogFacies', correct, total, correct/total)"
   ]
  },
  {
   "cell_type": "code",
   "execution_count": 88,
   "metadata": {},
   "outputs": [
    {
     "data": {
      "text/plain": [
       "[<matplotlib.lines.Line2D at 0x1a2da1f9b0>]"
      ]
     },
     "execution_count": 88,
     "metadata": {},
     "output_type": "execute_result"
    },
    {
     "data": {
      "image/png": "[encoded data removed]",
      "text/plain": [
       "<Figure size 432x288 with 1 Axes>"
      ]
     },
     "metadata": {
      "needs_background": "light"
     },
     "output_type": "display_data"
    }
   ],
   "source": [
    "result = [multi_power_only_one(i, 0) for i in r]\n",
    "y = [i[0] for i in result]\n",
    "x = [i[1] for i in result]\n",
    "plt.plot(x, y)"
   ]
  },
  {
   "cell_type": "code",
   "execution_count": 92,
   "metadata": {},
   "outputs": [
    {
     "name": "stdout",
     "output_type": "stream",
     "text": [
      "Fluid 1072 1094 0.979890310786106\n"
     ]
    }
   ],
   "source": [
    "current = -2.5\n",
    "r_2 = [current]\n",
    "while current < 2.5:\n",
    "    current+=0.5\n",
    "    r_2.append(current)\n",
    "r_2.remove(0)\n",
    "r_2.remove(1)\n",
    "r_2\n",
    "def multi_power_fixed(power,  y_index=0):\n",
    "    X = data[[\"DEPTH\", \"CALI\", \"DT\", \"GR\", \"LLD\", \"LLS\", \"MSFL\", \"NPHI\", \"RHOB\"]]\n",
    "    X_np = X.values\n",
    "    a = [X_np]\n",
    "    for i in r_2:\n",
    "        if i in [0, 1]:\n",
    "            continue\n",
    "        X_np_square = X_np ** i\n",
    "        X_np_square = X_np_square[:,1:]\n",
    "        a.append(X_np_square)\n",
    "    X_all = np.hstack(a)\n",
    "#     print(i, X_all.shape)\n",
    "    ss = StandardScaler()\n",
    "    X = ss.fit_transform(X_all)\n",
    "    clf = LogisticRegression()\n",
    "    Y = ALL_Y[y_index]\n",
    "    clf.fit(X, Y)\n",
    "    Y_pred = clf.predict(X)\n",
    "    \n",
    "    X = data_test[[\"DEPTH\", \"CALI\", \"DT\", \"GR\", \"LLD\", \"LLS\", \"MSFL\", \"NPHI\", \"RHOB\"]]\n",
    "    X_np = X.values\n",
    "    a = [X_np]\n",
    "    for i in r_2:\n",
    "        if i in [0, 1]:\n",
    "            continue\n",
    "        X_np_square = X_np ** i\n",
    "        X_np_square = X_np_square[:,1:]\n",
    "        a.append(X_np_square)\n",
    "    X_all = np.hstack(a)\n",
    "    X = ss.fit_transform(X_all)\n",
    "    Y_pred = clf.predict(X)\n",
    "    Y_test = ALL_Y_TEST[y_index]\n",
    "#     Y_pred[Y_pred==Y_test].shape[0]\n",
    "    return Y_pred[Y_pred==Y_test].shape[0], Y_pred.shape[0]\n",
    "\n",
    "correct, total = multi_power_fixed(None, 0)\n",
    "print('Fluid', correct, total, correct/total)"
   ]
  },
  {
   "cell_type": "code",
   "execution_count": 93,
   "metadata": {},
   "outputs": [
    {
     "data": {
      "text/plain": [
       "[<matplotlib.lines.Line2D at 0x1a2aebba20>]"
      ]
     },
     "execution_count": 93,
     "metadata": {},
     "output_type": "execute_result"
    },
    {
     "data": {
      "image/png": "[encoded data removed]",
      "text/plain": [
       "<Figure size 432x288 with 1 Axes>"
      ]
     },
     "metadata": {
      "needs_background": "light"
     },
     "output_type": "display_data"
    }
   ],
   "source": [
    "result = [multi_power_only_one(i, 2) for i in r]\n",
    "y = [i[0] for i in result]\n",
    "x = [i[1] for i in result]\n",
    "plt.plot(x, y)"
   ]
  },
  {
   "cell_type": "code",
   "execution_count": 94,
   "metadata": {},
   "outputs": [
    {
     "name": "stdout",
     "output_type": "stream",
     "text": [
      "MixLabel 837 1094 0.7650822669104205\n"
     ]
    }
   ],
   "source": [
    "current = -2.5\n",
    "r_2 = [current]\n",
    "while current < 2.5:\n",
    "    current+=0.5\n",
    "    r_2.append(current)\n",
    "r_2.remove(0)\n",
    "r_2.remove(1)\n",
    "r_2\n",
    "def multi_power_fixed(power,  y_index=0):\n",
    "    X = data[[\"DEPTH\", \"CALI\", \"DT\", \"GR\", \"LLD\", \"LLS\", \"MSFL\", \"NPHI\", \"RHOB\"]]\n",
    "    X_np = X.values\n",
    "    a = [X_np]\n",
    "    for i in r_2:\n",
    "        if i in [0, 1]:\n",
    "            continue\n",
    "        X_np_square = X_np ** i\n",
    "        X_np_square = X_np_square[:,1:]\n",
    "        a.append(X_np_square)\n",
    "    X_all = np.hstack(a)\n",
    "#     print(i, X_all.shape)\n",
    "    ss = StandardScaler()\n",
    "    X = ss.fit_transform(X_all)\n",
    "    clf = LogisticRegression()\n",
    "    Y = ALL_Y[y_index]\n",
    "    clf.fit(X, Y)\n",
    "    Y_pred = clf.predict(X)\n",
    "    \n",
    "    X = data_test[[\"DEPTH\", \"CALI\", \"DT\", \"GR\", \"LLD\", \"LLS\", \"MSFL\", \"NPHI\", \"RHOB\"]]\n",
    "    X_np = X.values\n",
    "    a = [X_np]\n",
    "    for i in r_2:\n",
    "        if i in [0, 1]:\n",
    "            continue\n",
    "        X_np_square = X_np ** i\n",
    "        X_np_square = X_np_square[:,1:]\n",
    "        a.append(X_np_square)\n",
    "    X_all = np.hstack(a)\n",
    "    X = ss.fit_transform(X_all)\n",
    "    Y_pred = clf.predict(X)\n",
    "    Y_test = ALL_Y_TEST[y_index]\n",
    "#     Y_pred[Y_pred==Y_test].shape[0]\n",
    "    return Y_pred[Y_pred==Y_test].shape[0], Y_pred.shape[0]\n",
    "\n",
    "correct, total = multi_power_fixed(None, 2)\n",
    "print('MixLabel', correct, total, correct/total)"
   ]
  },
  {
   "cell_type": "markdown",
   "metadata": {},
   "source": [
    "### Fully connected layers"
   ]
  },
  {
   "cell_type": "code",
   "execution_count": 20,
   "metadata": {},
   "outputs": [],
   "source": [
    "import torch\n",
    "import torch.nn as nn\n",
    "import torchvision.transforms as transforms\n",
    "import torch.nn.functional as F\n",
    "from torch.utils.data import TensorDataset, DataLoader\n",
    "from sklearn.model_selection import StratifiedShuffleSplit\n",
    "from sklearn.metrics import accuracy_score\n",
    "from livelossplot import PlotLosses\n",
    "from pycm import *"
   ]
  },
  {
   "cell_type": "code",
   "execution_count": 21,
   "metadata": {},
   "outputs": [],
   "source": [
    "class NeuralNet(nn.Module):\n",
    "    \n",
    "    def __init__(self, input_size, hidden_size, num_classes):\n",
    "        super(NeuralNet, self).__init__()\n",
    "        self.fc1 = nn.Linear(input_size, hidden_size)\n",
    "        self.act = nn.ReLU()\n",
    "        self.fc2 = nn.Linear(hidden_size, num_classes)\n",
    "        \n",
    "    def forward(self, x):\n",
    "        x = self.fc1(x)\n",
    "        x = self.act(x)\n",
    "        return self.fc2(x)"
   ]
  },
  {
   "cell_type": "code",
   "execution_count": 22,
   "metadata": {},
   "outputs": [],
   "source": [
    "def train(model, optimizer, criterion, data_loader):\n",
    "    model.train()\n",
    "    train_loss, train_accuracy = 0, 0\n",
    "    for X, y in data_loader:\n",
    "        X, y = X.to(device), y.to(device)\n",
    "        optimizer.zero_grad()\n",
    "        a2 = model(X)\n",
    "        loss = criterion(a2, y)\n",
    "        loss.backward()\n",
    "        train_loss += loss*X.size(0)\n",
    "        y_pred = F.log_softmax(a2, dim=1).max(1)[1]\n",
    "        train_accuracy += accuracy_score(y.cpu().numpy(), y_pred.detach().cpu().numpy())*X.size(0)\n",
    "        optimizer.step()  \n",
    "        \n",
    "    return train_loss/len(data_loader.dataset), train_accuracy/len(data_loader.dataset)"
   ]
  },
  {
   "cell_type": "code",
   "execution_count": 23,
   "metadata": {},
   "outputs": [],
   "source": [
    "def validate(model, criterion, data_loader):\n",
    "    model.eval()\n",
    "    validation_loss, validation_accuracy = 0., 0.\n",
    "    for X, y in data_loader:\n",
    "        with torch.no_grad():\n",
    "            X, y = X.to(device), y.to(device)\n",
    "            a2 = model(X)\n",
    "            loss = criterion(a2, y)\n",
    "            validation_loss += loss*X.size(0)\n",
    "            y_pred = F.log_softmax(a2, dim=1).max(1)[1]\n",
    "            validation_accuracy += accuracy_score(y.cpu().numpy(), y_pred.cpu().numpy())*X.size(0)\n",
    "            \n",
    "    return validation_loss/len(data_loader.dataset), validation_accuracy/len(data_loader.dataset)"
   ]
  },
  {
   "cell_type": "code",
   "execution_count": 24,
   "metadata": {},
   "outputs": [],
   "source": [
    "def evaluate(model, data_loader):\n",
    "    model.eval()\n",
    "    ys, y_preds = [], []\n",
    "    for X, y in data_loader:\n",
    "        with torch.no_grad():\n",
    "            X, y = X.to(device), y.to(device)\n",
    "            a2 = model(X)\n",
    "            y_pred = F.log_softmax(a2, dim=1).max(1)[1]\n",
    "            ys.append(y.cpu().numpy())\n",
    "            y_preds.append(y_pred.cpu().numpy())\n",
    "            \n",
    "    return np.concatenate(y_preds, 0),  np.concatenate(ys, 0)"
   ]
  },
  {
   "cell_type": "markdown",
   "metadata": {},
   "source": [
    "##### Log Facies"
   ]
  },
  {
   "cell_type": "code",
   "execution_count": 26,
   "metadata": {},
   "outputs": [],
   "source": [
    "Y = torch.Tensor(Y1)\n",
    "Y = Y.long()\n",
    "\n",
    "Y_2 = torch.Tensor(Y1_test)\n",
    "Y_2 = Y_2.long()\n",
    "\n",
    "X = torch.Tensor(X_o)\n",
    "X_2 = torch.Tensor(X_test_o)\n",
    "\n",
    "shuffler = StratifiedShuffleSplit(n_splits=1, test_size=0.1).split(X, Y)\n",
    "indices = [(train_idx, validation_idx) for train_idx, validation_idx in shuffler][0]"
   ]
  },
  {
   "cell_type": "code",
   "execution_count": 27,
   "metadata": {},
   "outputs": [],
   "source": [
    "X_train, Y_train = X[indices[0]], Y[indices[0]]\n",
    "X_val, Y_val = X[indices[1]], Y[indices[1]]\n",
    "X_test, Y_test = X_2, Y_2"
   ]
  },
  {
   "cell_type": "code",
   "execution_count": 28,
   "metadata": {},
   "outputs": [],
   "source": [
    "data_train = TensorDataset(X_train, Y_train)\n",
    "data_val = TensorDataset(X_val, Y_val)\n",
    "data_test = TensorDataset(X_test, Y_test)"
   ]
  },
  {
   "cell_type": "code",
   "execution_count": 31,
   "metadata": {},
   "outputs": [],
   "source": [
    "input_size = 9\n",
    "num_classes = len(set(Y))\n",
    "hidden_size = 15\n",
    "epochs = 100\n",
    "lr = 0.01\n",
    "batch_size = 64\n",
    "test_batch_size = 1000\n",
    "\n",
    "train_loader = DataLoader(data_train, batch_size=batch_size, shuffle=True, num_workers=0)\n",
    "validation_loader = DataLoader(data_val, batch_size=test_batch_size, shuffle=False, num_workers=0)\n",
    "test_loader = DataLoader(data_test, batch_size=test_batch_size, shuffle=False, num_workers=0)"
   ]
  },
  {
   "cell_type": "code",
   "execution_count": 33,
   "metadata": {},
   "outputs": [
    {
     "data": {
      "image/png": "[encoded data removed]",
      "text/plain": [
       "<Figure size 864x576 with 2 Axes>"
      ]
     },
     "metadata": {
      "needs_background": "light"
     },
     "output_type": "display_data"
    },
    {
     "name": "stdout",
     "output_type": "stream",
     "text": [
      "log loss:\n",
      "training   (min:    0.359, max:    7.124, cur:    0.359)\n",
      "validation (min:    0.399, max:    7.071, cur:    0.401)\n",
      "\n",
      "accuracy:\n",
      "training   (min:    0.000, max:    0.855, cur:    0.851)\n",
      "validation (min:    0.000, max:    0.874, cur:    0.854)\n"
     ]
    }
   ],
   "source": [
    "model = NeuralNet(input_size, hidden_size, num_classes)\n",
    "criterion = nn.CrossEntropyLoss()\n",
    "optimizer = torch.optim.SGD(model.parameters(), lr=lr )\n",
    "device = 'cpu'\n",
    "\n",
    "liveloss = PlotLosses()\n",
    "for epoch in range(200):\n",
    "    logs = {}\n",
    "    train_loss, train_accuracy = train(model, optimizer, criterion, train_loader)\n",
    "\n",
    "    logs['' + 'log loss'] = train_loss.item()\n",
    "    logs['' + 'accuracy'] = train_accuracy.item()\n",
    "    \n",
    "    validation_loss, validation_accuracy = validate(model, criterion, validation_loader)\n",
    "    logs['val_' + 'log loss'] = validation_loss.item()\n",
    "    logs['val_' + 'accuracy'] = validation_accuracy.item()\n",
    "    \n",
    "    liveloss.update(logs)\n",
    "    liveloss.draw()"
   ]
  },
  {
   "cell_type": "code",
   "execution_count": 35,
   "metadata": {},
   "outputs": [
    {
     "name": "stdout",
     "output_type": "stream",
     "text": [
      "777 0.7102376599634369\n"
     ]
    }
   ],
   "source": [
    "y_pred, y_gt = evaluate(model, test_loader)\n",
    "correct = y_pred[y_pred==y_gt].shape[0]\n",
    "count = y_pred.shape[0]\n",
    "print(correct, correct/count)"
   ]
  },
  {
   "cell_type": "markdown",
   "metadata": {},
   "source": [
    "##### Fluid "
   ]
  },
  {
   "cell_type": "code",
   "execution_count": 36,
   "metadata": {},
   "outputs": [
    {
     "data": {
      "image/png": "[encoded data removed]",
      "text/plain": [
       "<Figure size 864x576 with 2 Axes>"
      ]
     },
     "metadata": {
      "needs_background": "light"
     },
     "output_type": "display_data"
    },
    {
     "name": "stdout",
     "output_type": "stream",
     "text": [
      "log loss:\n",
      "training   (min:    0.037, max:    7.020, cur:    0.037)\n",
      "validation (min:    0.017, max:    6.969, cur:    0.017)\n",
      "\n",
      "accuracy:\n",
      "training   (min:    0.000, max:    0.987, cur:    0.987)\n",
      "validation (min:    0.000, max:    1.000, cur:    1.000)\n"
     ]
    }
   ],
   "source": [
    "Y = torch.Tensor(Y2)\n",
    "Y = Y.long()\n",
    "\n",
    "Y_2 = torch.Tensor(Y2_test)\n",
    "Y_2 = Y_2.long()\n",
    "\n",
    "X = torch.Tensor(X_o)\n",
    "X_2 = torch.Tensor(X_test_o)\n",
    "\n",
    "shuffler = StratifiedShuffleSplit(n_splits=1, test_size=0.1).split(X, Y)\n",
    "indices = [(train_idx, validation_idx) for train_idx, validation_idx in shuffler][0]\n",
    "\n",
    "X_train, Y_train = X[indices[0]], Y[indices[0]]\n",
    "X_val, Y_val = X[indices[1]], Y[indices[1]]\n",
    "X_test, Y_test = X_2, Y_2\n",
    "\n",
    "data_train = TensorDataset(X_train, Y_train)\n",
    "data_val = TensorDataset(X_val, Y_val)\n",
    "data_test = TensorDataset(X_test, Y_test)\n",
    "\n",
    "input_size = 9\n",
    "num_classes = len(set(Y))\n",
    "hidden_size = 15\n",
    "epochs = 100\n",
    "lr = 0.01\n",
    "batch_size = 64\n",
    "test_batch_size = 1000\n",
    "\n",
    "train_loader = DataLoader(data_train, batch_size=batch_size, shuffle=True, num_workers=0)\n",
    "validation_loader = DataLoader(data_val, batch_size=test_batch_size, shuffle=False, num_workers=0)\n",
    "test_loader = DataLoader(data_test, batch_size=test_batch_size, shuffle=False, num_workers=0)\n",
    "\n",
    "model = NeuralNet(input_size, hidden_size, num_classes)\n",
    "criterion = nn.CrossEntropyLoss()\n",
    "optimizer = torch.optim.SGD(model.parameters(), lr=lr )\n",
    "device = 'cpu'\n",
    "\n",
    "liveloss = PlotLosses()\n",
    "for epoch in range(200):\n",
    "    logs = {}\n",
    "    train_loss, train_accuracy = train(model, optimizer, criterion, train_loader)\n",
    "\n",
    "    logs['' + 'log loss'] = train_loss.item()\n",
    "    logs['' + 'accuracy'] = train_accuracy.item()\n",
    "    \n",
    "    validation_loss, validation_accuracy = validate(model, criterion, validation_loader)\n",
    "    logs['val_' + 'log loss'] = validation_loss.item()\n",
    "    logs['val_' + 'accuracy'] = validation_accuracy.item()\n",
    "    \n",
    "    liveloss.update(logs)\n",
    "    liveloss.draw()"
   ]
  },
  {
   "cell_type": "code",
   "execution_count": 37,
   "metadata": {},
   "outputs": [
    {
     "name": "stdout",
     "output_type": "stream",
     "text": [
      "973 0.8893967093235832\n"
     ]
    }
   ],
   "source": [
    "y_pred, y_gt = evaluate(model, test_loader)\n",
    "correct = y_pred[y_pred==y_gt].shape[0]\n",
    "count = y_pred.shape[0]\n",
    "print(correct, correct/count)"
   ]
  },
  {
   "cell_type": "markdown",
   "metadata": {},
   "source": [
    "##### MixLabel"
   ]
  },
  {
   "cell_type": "code",
   "execution_count": 38,
   "metadata": {},
   "outputs": [
    {
     "data": {
      "image/png": "[encoded data removed]",
      "text/plain": [
       "<Figure size 864x576 with 2 Axes>"
      ]
     },
     "metadata": {
      "needs_background": "light"
     },
     "output_type": "display_data"
    },
    {
     "name": "stdout",
     "output_type": "stream",
     "text": [
      "log loss:\n",
      "training   (min:    0.439, max:    6.904, cur:    0.439)\n",
      "validation (min:    0.441, max:    6.839, cur:    0.441)\n",
      "\n",
      "accuracy:\n",
      "training   (min:    0.000, max:    0.843, cur:    0.841)\n",
      "validation (min:    0.000, max:    0.845, cur:    0.845)\n"
     ]
    }
   ],
   "source": [
    "Y = torch.Tensor(Y3)\n",
    "Y = Y.long()\n",
    "\n",
    "Y_2 = torch.Tensor(Y3_test)\n",
    "Y_2 = Y_2.long()\n",
    "\n",
    "X = torch.Tensor(X_o)\n",
    "X_2 = torch.Tensor(X_test_o)\n",
    "\n",
    "shuffler = StratifiedShuffleSplit(n_splits=1, test_size=0.1).split(X, Y)\n",
    "indices = [(train_idx, validation_idx) for train_idx, validation_idx in shuffler][0]\n",
    "\n",
    "X_train, Y_train = X[indices[0]], Y[indices[0]]\n",
    "X_val, Y_val = X[indices[1]], Y[indices[1]]\n",
    "X_test, Y_test = X_2, Y_2\n",
    "\n",
    "data_train = TensorDataset(X_train, Y_train)\n",
    "data_val = TensorDataset(X_val, Y_val)\n",
    "data_test = TensorDataset(X_test, Y_test)\n",
    "\n",
    "input_size = 9\n",
    "num_classes = len(set(Y))\n",
    "hidden_size = 15\n",
    "epochs = 100\n",
    "lr = 0.01\n",
    "batch_size = 64\n",
    "test_batch_size = 1000\n",
    "\n",
    "train_loader = DataLoader(data_train, batch_size=batch_size, shuffle=True, num_workers=0)\n",
    "validation_loader = DataLoader(data_val, batch_size=test_batch_size, shuffle=False, num_workers=0)\n",
    "test_loader = DataLoader(data_test, batch_size=test_batch_size, shuffle=False, num_workers=0)\n",
    "\n",
    "model = NeuralNet(input_size, hidden_size, num_classes)\n",
    "criterion = nn.CrossEntropyLoss()\n",
    "optimizer = torch.optim.SGD(model.parameters(), lr=lr )\n",
    "device = 'cpu'\n",
    "\n",
    "liveloss = PlotLosses()\n",
    "for epoch in range(200):\n",
    "    logs = {}\n",
    "    train_loss, train_accuracy = train(model, optimizer, criterion, train_loader)\n",
    "\n",
    "    logs['' + 'log loss'] = train_loss.item()\n",
    "    logs['' + 'accuracy'] = train_accuracy.item()\n",
    "    \n",
    "    validation_loss, validation_accuracy = validate(model, criterion, validation_loader)\n",
    "    logs['val_' + 'log loss'] = validation_loss.item()\n",
    "    logs['val_' + 'accuracy'] = validation_accuracy.item()\n",
    "    \n",
    "    liveloss.update(logs)\n",
    "    liveloss.draw()"
   ]
  },
  {
   "cell_type": "code",
   "execution_count": 40,
   "metadata": {},
   "outputs": [
    {
     "name": "stdout",
     "output_type": "stream",
     "text": [
      "784 0.716636197440585\n"
     ]
    }
   ],
   "source": [
    "y_pred, y_gt = evaluate(model, test_loader)\n",
    "correct = y_pred[y_pred==y_gt].shape[0]\n",
    "count = y_pred.shape[0]\n",
    "print(correct, correct/count)"
   ]
  },
  {
   "cell_type": "markdown",
   "metadata": {},
   "source": [
    "### SVM"
   ]
  },
  {
   "cell_type": "code",
   "execution_count": 41,
   "metadata": {},
   "outputs": [],
   "source": [
    "from sklearn.svm import SVC"
   ]
  },
  {
   "cell_type": "code",
   "execution_count": 42,
   "metadata": {},
   "outputs": [
    {
     "name": "stdout",
     "output_type": "stream",
     "text": [
      "label: Fluid correct: 0.92 1005\n",
      "label: Log_Facies correct: 0.72 784\n",
      "label: MixLabel correct: 0.67 732\n"
     ]
    }
   ],
   "source": [
    "for (seq, label) in enumerate(['Fluid', 'Log_Facies', 'MixLabel']):\n",
    "    Y = ALL_Y[seq]\n",
    "    Y_TEST = ALL_Y_TEST[seq]\n",
    "    clf = SVC()\n",
    "    clf.fit(X_o, Y)\n",
    "    pred = clf.predict(X_test_o)\n",
    "    correct = pred[pred==Y_TEST].shape[0]\n",
    "    print(\"label: {} correct: {:.2f}\".format(label, correct/pred.shape[0]), correct)"
   ]
  },
  {
   "cell_type": "code",
   "execution_count": null,
   "metadata": {},
   "outputs": [],
   "source": []
  }
 ],
 "metadata": {
  "kernelspec": {
   "display_name": "Python 3",
   "language": "python",
   "name": "python3"
  },
  "language_info": {
   "codemirror_mode": {
    "name": "ipython",
    "version": 3
   },
   "file_extension": ".py",
   "mimetype": "text/x-python",
   "name": "python",
   "nbconvert_exporter": "python",
   "pygments_lexer": "ipython3",
   "version": "3.7.0"
  }
 },
 "nbformat": 4,
 "nbformat_minor": 2
}
