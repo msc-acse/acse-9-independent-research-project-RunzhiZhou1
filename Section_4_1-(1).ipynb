{
 "cells": [
  {
   "cell_type": "code",
   "execution_count": 1,
   "metadata": {},
   "outputs": [],
   "source": [
    "import openpyxl\n",
    "from openpyxl import load_workbook\n",
    "import pandas as pd\n",
    "import numpy as np\n",
    "import matplotlib.pyplot as plt\n",
    "from mpl_toolkits.mplot3d import Axes3D\n",
    "%matplotlib notebook\n",
    "import warnings\n",
    "warnings.filterwarnings('ignore')"
   ]
  },
  {
   "cell_type": "code",
   "execution_count": 2,
   "metadata": {},
   "outputs": [],
   "source": [
    "df = pd.read_excel(\"dataset.xlsx\", sheet_name=None, header=0)"
   ]
  },
  {
   "cell_type": "markdown",
   "metadata": {},
   "source": [
    "# Section 4.1 (Table 4.1.1 and Table 4.1.4)"
   ]
  },
  {
   "cell_type": "markdown",
   "metadata": {},
   "source": [
    "# Table 4.1.1"
   ]
  },
  {
   "cell_type": "code",
   "execution_count": 3,
   "metadata": {},
   "outputs": [],
   "source": [
    "all_df = {}\n",
    "for i, d in enumerate(df.items()):\n",
    "    name, data = d\n",
    "    data['wellid'] = i\n",
    "    all_df[name] = data\n",
    "all_data = pd.concat(df.values())\n",
    "# all_data = all_df['1X-02']"
   ]
  },
  {
   "cell_type": "code",
   "execution_count": 4,
   "metadata": {},
   "outputs": [],
   "source": [
    "all_data = all_data[[ \"DEPTH\", \"DT\", \"GR\", \"LLD\", \"NPHI\", \"RHOB\", \"Log_Facies\", \"Fluid\", \"wellid\"]]\n",
    "all_data = all_data.dropna(axis=0, how='any')\n",
    "data = all_data"
   ]
  },
  {
   "cell_type": "code",
   "execution_count": 5,
   "metadata": {},
   "outputs": [],
   "source": [
    "data = data[data['DEPTH'] == data[\"DEPTH\"]]   # drop NaN value row"
   ]
  },
  {
   "cell_type": "code",
   "execution_count": 6,
   "metadata": {},
   "outputs": [],
   "source": [
    "data['Log_Facies'] = data['Log_Facies'].apply(lambda x: int(x))"
   ]
  },
  {
   "cell_type": "code",
   "execution_count": 7,
   "metadata": {},
   "outputs": [],
   "source": [
    "comb = [(1, 1), (1, 2), (1, 3), (2, 1), (2, 2), (2, 3)]\n",
    "def label_facies(row):\n",
    "    f = row['Fluid']\n",
    "    lf = row['Log_Facies']\n",
    "    return comb.index((f, lf))\n",
    "data['MixLabel'] = data.apply(label_facies, axis=1)"
   ]
  },
  {
   "cell_type": "code",
   "execution_count": 8,
   "metadata": {},
   "outputs": [
    {
     "data": {
      "text/plain": [
       "(4695, 10)"
      ]
     },
     "execution_count": 8,
     "metadata": {},
     "output_type": "execute_result"
    }
   ],
   "source": [
    "data.shape"
   ]
  },
  {
   "cell_type": "code",
   "execution_count": 9,
   "metadata": {},
   "outputs": [],
   "source": [
    "from sklearn.model_selection import StratifiedShuffleSplit\n",
    "from sklearn.preprocessing import StandardScaler"
   ]
  },
  {
   "cell_type": "code",
   "execution_count": 10,
   "metadata": {},
   "outputs": [],
   "source": [
    "X = data[[\"DEPTH\", \"DT\", \"GR\", \"LLD\", \"NPHI\", \"RHOB\"]]\n",
    "ss = StandardScaler()\n",
    "X = ss.fit_transform(X)\n",
    "OX = X"
   ]
  },
  {
   "cell_type": "code",
   "execution_count": 11,
   "metadata": {},
   "outputs": [],
   "source": [
    "Y1 = data['Log_Facies'].values\n",
    "Y2 = data['Fluid'].values\n",
    "Y3 = data['MixLabel'].values\n",
    "Y_Label = ['Log_Facies', 'Fluid', 'MixLabel']"
   ]
  },
  {
   "cell_type": "code",
   "execution_count": 12,
   "metadata": {},
   "outputs": [],
   "source": [
    "num_of_shuffler = 10\n",
    "shuffler1 = StratifiedShuffleSplit(n_splits=num_of_shuffler, test_size=0.1).split(X, Y1)\n",
    "shuffler2 = StratifiedShuffleSplit(n_splits=num_of_shuffler, test_size=0.1).split(X, Y2)\n",
    "shuffler3 = StratifiedShuffleSplit(n_splits=num_of_shuffler, test_size=0.1).split(X, Y3)"
   ]
  },
  {
   "cell_type": "code",
   "execution_count": 13,
   "metadata": {},
   "outputs": [],
   "source": [
    "s1 = [x for x in shuffler1]\n",
    "s2 = [x for x in shuffler2]\n",
    "s3 = [x for x in shuffler3]"
   ]
  },
  {
   "cell_type": "code",
   "execution_count": 14,
   "metadata": {},
   "outputs": [],
   "source": [
    "indices1 = [(train_idx, validation_idx) for train_idx, validation_idx in s1]\n",
    "indices2 = [(train_idx, validation_idx) for train_idx, validation_idx in s2]\n",
    "indices3 = [(train_idx, validation_idx) for train_idx, validation_idx in s3]"
   ]
  },
  {
   "cell_type": "code",
   "execution_count": 15,
   "metadata": {},
   "outputs": [],
   "source": [
    "from sklearn.linear_model import LogisticRegression\n",
    "from sklearn.svm import SVC"
   ]
  },
  {
   "cell_type": "code",
   "execution_count": 16,
   "metadata": {},
   "outputs": [],
   "source": [
    "CLF = LogisticRegression\n"
   ]
  },
  {
   "cell_type": "code",
   "execution_count": 17,
   "metadata": {
    "scrolled": false
   },
   "outputs": [
    {
     "name": "stdout",
     "output_type": "stream",
     "text": [
      "without: DEPTH label: Log_Facies total: 470.0 correct: 380.7 correct percent 0.810\n",
      "without: DEPTH label: Fluid total: 470.0 correct: 443.8 correct percent 0.944\n",
      "without: DEPTH label: MixLabel total: 470.0 correct: 362.2 correct percent 0.771\n",
      "without: DT label: Log_Facies total: 470.0 correct: 380.6 correct percent 0.810\n",
      "without: DT label: Fluid total: 470.0 correct: 445.0 correct percent 0.947\n",
      "without: DT label: MixLabel total: 470.0 correct: 366.0 correct percent 0.779\n",
      "without: GR label: Log_Facies total: 470.0 correct: 379.0 correct percent 0.806\n",
      "without: GR label: Fluid total: 470.0 correct: 442.7 correct percent 0.942\n",
      "without: GR label: MixLabel total: 470.0 correct: 358.9 correct percent 0.764\n",
      "without: LLD label: Log_Facies total: 470.0 correct: 380.6 correct percent 0.810\n",
      "without: LLD label: Fluid total: 470.0 correct: 386.7 correct percent 0.823\n",
      "without: LLD label: MixLabel total: 470.0 correct: 310.8 correct percent 0.661\n",
      "without: NPHI label: Log_Facies total: 470.0 correct: 350.7 correct percent 0.746\n",
      "without: NPHI label: Fluid total: 470.0 correct: 447.4 correct percent 0.952\n",
      "without: NPHI label: MixLabel total: 470.0 correct: 339.5 correct percent 0.722\n",
      "without: RHOB label: Log_Facies total: 470.0 correct: 319.2 correct percent 0.679\n",
      "without: RHOB label: Fluid total: 470.0 correct: 447.6 correct percent 0.952\n",
      "without: RHOB label: MixLabel total: 470.0 correct: 318.8 correct percent 0.678\n",
      "without: nothing label: Log_Facies total: 470.0 correct: 381.3 correct percent 0.811\n",
      "without: nothing label: Fluid total: 470.0 correct: 447.3 correct percent 0.952\n",
      "without: nothing label: MixLabel total: 470.0 correct: 367.4 correct percent 0.782\n"
     ]
    }
   ],
   "source": [
    "count = []\n",
    "shape = 1\n",
    "ALL_Y = [Y1, Y2, Y3]\n",
    "all_indices = [indices1, indices2, indices3]\n",
    "seq = 0\n",
    "\n",
    "for k in range(7):\n",
    "    X = np.concatenate([OX[:, :k], OX[:,k+1:]], axis=1)\n",
    "    for (j, indices) in enumerate([indices1, indices2, indices3]):\n",
    "        all_total, all_correct = 0, 0\n",
    "        for i in range(num_of_shuffler):\n",
    "            Y = ALL_Y[j]\n",
    "            X_train = X[indices[i][0]]\n",
    "            Y_train = Y[indices[i][0]]\n",
    "            X_test = X[indices[i][1]]\n",
    "            Y_test = Y[indices[i][1]]\n",
    "            shape = Y_test.shape[0]\n",
    "            model = CLF()\n",
    "            model.fit(X_train, Y_train)\n",
    "            pred = model.predict(X_test)\n",
    "\n",
    "            y_pred_filter = pred\n",
    "            y_test_filter = Y_test\n",
    "\n",
    "            total = pred.shape[0]\n",
    "            correct = y_pred_filter[y_pred_filter==y_test_filter].shape[0]\n",
    "            all_total += total\n",
    "            all_correct += correct\n",
    "            \n",
    "#             print(model.coef_)\n",
    "#             print(model.intercept_)\n",
    "\n",
    "        all_total /= 10\n",
    "        all_correct /= 10\n",
    "        seq += 1\n",
    "        col = [\"DEPTH\", \"DT\", \"GR\", \"LLD\", \"NPHI\", \"RHOB\", \"nothing\"][k]\n",
    "        print(\"without: {} label: {} total: {} correct: {} correct percent {:.3f}\".format(col, Y_Label[j], all_total, all_correct, all_correct/all_total ))"
   ]
  },
  {
   "cell_type": "markdown",
   "metadata": {},
   "source": [
    "# Table 4.1.4"
   ]
  },
  {
   "cell_type": "code",
   "execution_count": 18,
   "metadata": {},
   "outputs": [],
   "source": [
    "well_index = 1  # 1 mean 1F-11\n",
    "tmp_data = data[data['wellid'] == well_index]\n",
    "X = tmp_data[[\"DEPTH\", \"DT\", \"GR\", \"LLD\", \"NPHI\", \"RHOB\"]]\n",
    "ss = StandardScaler()\n",
    "X = ss.fit_transform(X)\n",
    "OX = X"
   ]
  },
  {
   "cell_type": "code",
   "execution_count": 19,
   "metadata": {},
   "outputs": [],
   "source": [
    "test_data = data[data['wellid'] == 2]\n",
    "#test_data = data[data['wellid'] != well_index]\n",
    "X_T =  test_data[[\"DEPTH\", \"DT\", \"GR\", \"LLD\", \"NPHI\", \"RHOB\"]]\n",
    "XT = ss.transform(X_T)"
   ]
  },
  {
   "cell_type": "code",
   "execution_count": 20,
   "metadata": {},
   "outputs": [],
   "source": [
    "Y1 = tmp_data['Log_Facies'].values\n",
    "Y2 = tmp_data['Fluid'].values\n",
    "Y3 = tmp_data['MixLabel'].values\n",
    "Y_Label = ['Log_Facies', 'Fluid', 'MixLabel']\n",
    "ALL_Y_TRAIN = [Y1, Y2, Y3]"
   ]
  },
  {
   "cell_type": "code",
   "execution_count": 21,
   "metadata": {},
   "outputs": [],
   "source": [
    "Y1_test = test_data['Log_Facies'].values\n",
    "Y2_test = test_data['Fluid'].values\n",
    "Y3_test = test_data['MixLabel'].values\n",
    "ALL_Y_TEST = [Y1_test, Y2_test, Y3_test]"
   ]
  },
  {
   "cell_type": "code",
   "execution_count": 22,
   "metadata": {},
   "outputs": [
    {
     "name": "stdout",
     "output_type": "stream",
     "text": [
      "without: DEPTH label: Log_Facies total: 1025 correct: 560 correct percent 0.546\n",
      "without: DEPTH label: Fluid total: 1025 correct: 699 correct percent 0.682\n",
      "without: DEPTH label: MixLabel total: 1025 correct: 471 correct percent 0.460\n",
      "without: DT label: Log_Facies total: 1025 correct: 336 correct percent 0.328\n",
      "without: DT label: Fluid total: 1025 correct: 321 correct percent 0.313\n",
      "without: DT label: MixLabel total: 1025 correct: 104 correct percent 0.101\n",
      "without: GR label: Log_Facies total: 1025 correct: 64 correct percent 0.062\n",
      "without: GR label: Fluid total: 1025 correct: 321 correct percent 0.313\n",
      "without: GR label: MixLabel total: 1025 correct: 104 correct percent 0.101\n",
      "without: LLD label: Log_Facies total: 1025 correct: 64 correct percent 0.062\n",
      "without: LLD label: Fluid total: 1025 correct: 321 correct percent 0.313\n",
      "without: LLD label: MixLabel total: 1025 correct: 104 correct percent 0.101\n",
      "without: NPHI label: Log_Facies total: 1025 correct: 69 correct percent 0.067\n",
      "without: NPHI label: Fluid total: 1025 correct: 321 correct percent 0.313\n",
      "without: NPHI label: MixLabel total: 1025 correct: 104 correct percent 0.101\n",
      "without: RHOB label: Log_Facies total: 1025 correct: 64 correct percent 0.062\n",
      "without: RHOB label: Fluid total: 1025 correct: 321 correct percent 0.313\n",
      "without: RHOB label: MixLabel total: 1025 correct: 68 correct percent 0.066\n",
      "without: nothing label: Log_Facies total: 1025 correct: 64 correct percent 0.062\n",
      "without: nothing label: Fluid total: 1025 correct: 321 correct percent 0.313\n",
      "without: nothing label: MixLabel total: 1025 correct: 104 correct percent 0.101\n"
     ]
    }
   ],
   "source": [
    "count = []\n",
    "shape = 1\n",
    "ALL_Y = [Y1, Y2, Y3]\n",
    "seq = 0\n",
    "\n",
    "for k in range(7):\n",
    "    X = np.concatenate([OX[:, :k], OX[:,k+1:]], axis=1)\n",
    "    X_T = np.concatenate([XT[:, :k], XT[:,k+1:]], axis=1)\n",
    "    \n",
    "    for j in range(3):\n",
    "        all_total, all_correct = 0, 0\n",
    "        X_train = X\n",
    "        Y_train = ALL_Y_TRAIN[j]\n",
    "        X_test = X_T\n",
    "        Y_test = ALL_Y_TEST[j]\n",
    "#         shape = Y_test.shape[0]\n",
    "        model = CLF()\n",
    "        model.fit(X_train, Y_train)\n",
    "        pred = model.predict(X_test)\n",
    "\n",
    "        y_pred_filter = pred\n",
    "        y_test_filter = Y_test\n",
    "\n",
    "        total = pred.shape[0]\n",
    "        correct = y_pred_filter[y_pred_filter==y_test_filter].shape[0]\n",
    "        all_total += total\n",
    "        all_correct += correct\n",
    "\n",
    "#             print(model.coef_)\n",
    "#             print(model.intercept_)\n",
    "\n",
    "#         all_total /= 10\n",
    "#         all_correct /= 10\n",
    "        seq += 1\n",
    "        col = [\"DEPTH\", \"DT\", \"GR\", \"LLD\", \"NPHI\", \"RHOB\", \"nothing\"][k]\n",
    "        print(\"without: {} label: {} total: {} correct: {} correct percent {:.3f}\".format(col, Y_Label[j], all_total, all_correct, all_correct/all_total ))"
   ]
  }
 ],
 "metadata": {
  "kernelspec": {
   "display_name": "Python 3",
   "language": "python",
   "name": "python3"
  },
  "language_info": {
   "codemirror_mode": {
    "name": "ipython",
    "version": 3
   },
   "file_extension": ".py",
   "mimetype": "text/x-python",
   "name": "python",
   "nbconvert_exporter": "python",
   "pygments_lexer": "ipython3",
   "version": "3.7.0"
  }
 },
 "nbformat": 4,
 "nbformat_minor": 2
}
